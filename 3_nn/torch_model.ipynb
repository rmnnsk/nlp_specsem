{
 "cells": [
  {
   "cell_type": "code",
   "execution_count": 14,
   "metadata": {},
   "outputs": [],
   "source": [
    "import torch\n",
    "import pandas as pd\n",
    "import numpy as np\n",
    "from scipy.spatial import distance\n",
    "from collections import defaultdict\n",
    "import random\n",
    "from tqdm import tqdm\n",
    "from IPython.display import display\n",
    "from sklearn.decomposition import PCA\n",
    "from sklearn.metrics import log_loss\n",
    "import matplotlib.pyplot as plt\n",
    "from matplotlib.patches import Rectangle\n",
    "import re\n",
    "import string\n",
    "\n",
    "plt.style.use('ggplot')\n",
    "plt.rcParams['figure.figsize'] = (30,15)"
   ]
  },
  {
   "cell_type": "code",
   "execution_count": 15,
   "metadata": {},
   "outputs": [],
   "source": [
    "class RegressionNet(torch.nn.Module):\n",
    "    def __init__(self):\n",
    "        super().__init__()\n",
    "        self.fc1 = torch.nn.Linear(50, 1000)\n",
    "        self.ac1 = torch.nn.Tanh()\n",
    "        self.fc2 = torch.nn.Linear(1000, 1000)\n",
    "        self.ac2 = torch.nn.Tanh()\n",
    "        self.fc3 = torch.nn.Linear(1000, 1000)\n",
    "        self.ac3 = torch.nn.Tanh()\n",
    "        self.fc4 = torch.nn.Linear(1000, 500)\n",
    "        self.ac4 = torch.nn.Tanh()\n",
    "        self.fc5 = torch.nn.Linear(500, 2)\n",
    "        self.sm = torch.nn.Softmax(dim=1)\n",
    "\n",
    "    def forward(self, x):\n",
    "        x = self.fc1(x)\n",
    "        x = self.ac1(x)\n",
    "        x = self.fc2(x)\n",
    "        x = self.ac2(x)\n",
    "        x = self.fc3(x)\n",
    "        x = self.ac3(x)\n",
    "        x = self.fc4(x)\n",
    "        x = self.ac4(x)\n",
    "        x = self.fc5(x)\n",
    "        return x\n",
    "  \n",
    "    def inference(self, x):\n",
    "        x = self.forward(x)\n",
    "        x = self.sm(x)\n",
    "        return x"
   ]
  },
  {
   "cell_type": "code",
   "execution_count": 16,
   "metadata": {},
   "outputs": [],
   "source": [
    "net = RegressionNet()"
   ]
  },
  {
   "cell_type": "code",
   "execution_count": 17,
   "metadata": {},
   "outputs": [],
   "source": [
    "def preprocessing(text):\n",
    "    text = text.lower()\n",
    "    \n",
    "    text = re.sub(r'<.*?>+', '', text)\n",
    "    text = re.sub(r'\\*', '', text)\n",
    "    text = re.sub(r'https?://\\S+|www\\.\\S+', '', text)\n",
    "    \n",
    "    text = text.replace(\"\\\\n\", ' ')\n",
    "    \n",
    "    text = re.sub(r\"([«“‘„']|[`]+)\", r\"\\1 \", text)\n",
    "    \n",
    "    text = re.sub(r\"([a-zA-Z])(\\.)\", r\"\\1 \\2\", text)\n",
    "    text = re.sub(r\"(\\.)([a-zA-Z])\", r\"\\1 \\2\", text)\n",
    "    text = re.sub(r\"([:,])([^\\d])\", r\" \\1 \\2\", text)\n",
    "    text = re.sub(r\"\\.\\.\\.\", r\" ... \", text)\n",
    "    text = re.sub(r\"[;:@#$%&]\", r\" \\g<0> \", text)\n",
    "    text = re.sub(r'([^\\.])(\\.)([\\]\\)}>\"\\']*)\\s*$', r\"\\1 \\2\\3 \", text)\n",
    "    text = re.sub(r\"[?!]\", r\" \\g<0> \", text)\n",
    "    text = re.sub(r\"([^'])' \", r\"\\1 ' \", text)\n",
    "    \n",
    "    text = re.sub(r'(\\S)(\\))', r\"\\1 \\2\", text)\n",
    "    text = re.sub(r'(\\()(\\S)', r\"\\1 \\2\", text)\n",
    "    text = re.sub(r'(\\))(\\S)', r\"\\1 \\2\", text)\n",
    "    text = re.sub(r'(\\S)(\\()', r\"\\1 \\2\", text)\n",
    "    \n",
    "    text = re.sub(r'(\\S)(\\\")', r\"\\1 \\2 \", text)\n",
    "    text = re.sub(r'(\\\")(\\S)', r\"\\1 \\2\", text)\n",
    "\n",
    "    text = re.sub(r\"([»”’]+)\", r\" \\1\", text)\n",
    "    \n",
    "    text = re.sub(r\"([^' ])('[sS]|'[mM]|'[dD]|') \", r\"\\1 \\2 \", text)\n",
    "    text = re.sub(r\"([^' ])('ll|'LL|'re|'RE|'ve|'VE|n't|N'T) \", r\"\\1 \\2 \", text)\n",
    "    \n",
    "    return text"
   ]
  },
  {
   "cell_type": "code",
   "execution_count": 18,
   "metadata": {},
   "outputs": [],
   "source": [
    "def tokenize_dataset(dataset, stem=0):\n",
    "    \"\"\"\n",
    "        arg: list of texts\n",
    "        return: list of tokenized texts\n",
    "    \"\"\"\n",
    "    \n",
    "    tokenized_dataset = [text.split() for text in dataset]\n",
    "    if stem == 0:\n",
    "        return [[token for token in text] for text in tokenized_dataset]\n",
    "    stem_dataset = [[token[:stem] for token in text] for text in tokenized_dataset]\n",
    "    return stem_dataset"
   ]
  },
  {
   "cell_type": "code",
   "execution_count": 19,
   "metadata": {},
   "outputs": [],
   "source": [
    "def vectorize(tokenized_texts, word2emb, emb_mode=50, test_mode = False):\n",
    "    res = []\n",
    "    not_found = []\n",
    "    for tok_text in tokenized_texts:\n",
    "        text_vec = np.zeros(emb_mode)\n",
    "        cnt = 0\n",
    "        for token in tok_text:\n",
    "            if token in word2emb:\n",
    "                text_vec += word2emb[token]\n",
    "                cnt += 1\n",
    "            else:\n",
    "                not_found.append(token)\n",
    "        text_vec /= cnt\n",
    "        res.append(text_vec)\n",
    "    if test_mode:\n",
    "        return np.stack(res), not_found\n",
    "    return np.stack(res)"
   ]
  },
  {
   "cell_type": "code",
   "execution_count": 20,
   "metadata": {},
   "outputs": [],
   "source": [
    "train_texts_path = \"./filimdb_evaluation/FILIMDB/train.texts\"\n",
    "train_labels_path = \"./filimdb_evaluation/FILIMDB/train.labels\"\n",
    "\n",
    "with open(train_texts_path, 'r', encoding='utf-8',) as inp:\n",
    "    train_texts = list(map(str.strip, inp.readlines()))\n",
    "with open(train_labels_path, 'r', encoding='utf-8',) as inp:\n",
    "    train_labels = list(map(str.strip, inp.readlines()))\n",
    "    \n",
    "    \n",
    "\n",
    "proc_train = list(map(preprocessing, train_texts))\n",
    "token_train = tokenize_dataset(proc_train)"
   ]
  },
  {
   "cell_type": "code",
   "execution_count": 21,
   "metadata": {},
   "outputs": [
    {
     "name": "stdout",
     "output_type": "stream",
     "text": [
      "Wall time: 6.72 s\n"
     ]
    }
   ],
   "source": [
    "%%time\n",
    "word2emb = dict()\n",
    "with open(\"glove.6B/glove.6B.50d.txt\", \"r\", encoding='utf-8') as inp:\n",
    "    for line in inp:\n",
    "        spl = line.strip().split()\n",
    "        word2emb[spl[0]] =  np.array(spl[1:], dtype=np.float32)"
   ]
  },
  {
   "cell_type": "code",
   "execution_count": 22,
   "metadata": {},
   "outputs": [],
   "source": [
    "X_train = vectorize(token_train, word2emb)"
   ]
  },
  {
   "cell_type": "code",
   "execution_count": 23,
   "metadata": {},
   "outputs": [],
   "source": [
    "def gen_Y(y_labels):\n",
    "    res = []\n",
    "    for lab in y_labels:\n",
    "        res.append(1 if lab == 'pos' else 0)\n",
    "    return np.array(res)\n",
    "Y_train = gen_Y(train_labels)"
   ]
  },
  {
   "cell_type": "code",
   "execution_count": 24,
   "metadata": {},
   "outputs": [
    {
     "name": "stdout",
     "output_type": "stream",
     "text": [
      "(15000, 50) (15000,)\n"
     ]
    }
   ],
   "source": [
    "print(X_train.shape, Y_train.shape)"
   ]
  },
  {
   "cell_type": "code",
   "execution_count": 25,
   "metadata": {},
   "outputs": [],
   "source": [
    "X_small = torch.tensor(X_train[:20]).float()\n",
    "Y_small = torch.tensor(Y_train[:20]).long()"
   ]
  },
  {
   "cell_type": "code",
   "execution_count": 30,
   "metadata": {},
   "outputs": [
    {
     "name": "stdout",
     "output_type": "stream",
     "text": [
      "tensor(0.)\n"
     ]
    }
   ],
   "source": [
    "loss_func = torch.nn.CrossEntropyLoss()\n",
    "test1 = np.array([[0, 20], [0, 20], [20, 0]])\n",
    "test1 = torch.tensor(test1).float()\n",
    "test2 = np.array([1, 1, 0])\n",
    "test2 = torch.tensor(test2).long()\n",
    "loss = loss_func(test1, test2)\n",
    "print(loss)\n",
    "optimizer = torch.optim.SGD(net.parameters(), lr=0.05)"
   ]
  },
  {
   "cell_type": "code",
   "execution_count": 27,
   "metadata": {},
   "outputs": [
    {
     "name": "stderr",
     "output_type": "stream",
     "text": [
      "100%|█████████████████████████████████████████████████████████████████████████████| 1000/1000 [00:09<00:00, 101.02it/s]\n"
     ]
    }
   ],
   "source": [
    "num_ep = 1000\n",
    "for ep in tqdm(range(num_ep)):\n",
    "    optimizer.zero_grad()\n",
    "    \n",
    "    output = net.forward(X_small)\n",
    "#     print(output.shape)\n",
    "    loss = loss_func(output, Y_small)\n",
    "    loss.backward()\n",
    "    optimizer.step()"
   ]
  },
  {
   "cell_type": "code",
   "execution_count": 28,
   "metadata": {},
   "outputs": [
    {
     "name": "stdout",
     "output_type": "stream",
     "text": [
      "tensor(0.8000)\n"
     ]
    }
   ],
   "source": [
    "preds = net.forward(X_small)\n",
    "preds = preds.argmax(dim=1)\n",
    "print((preds == Y_small).float().mean())"
   ]
  },
  {
   "cell_type": "code",
   "execution_count": null,
   "metadata": {},
   "outputs": [],
   "source": []
  }
 ],
 "metadata": {
  "kernelspec": {
   "display_name": "Python 3",
   "language": "python",
   "name": "python3"
  },
  "language_info": {
   "codemirror_mode": {
    "name": "ipython",
    "version": 3
   },
   "file_extension": ".py",
   "mimetype": "text/x-python",
   "name": "python",
   "nbconvert_exporter": "python",
   "pygments_lexer": "ipython3",
   "version": "3.8.3"
  }
 },
 "nbformat": 4,
 "nbformat_minor": 4
}
