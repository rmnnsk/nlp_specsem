{
 "cells": [
  {
   "cell_type": "markdown",
   "metadata": {},
   "source": [
    "# Исследовательская часть"
   ]
  },
  {
   "cell_type": "markdown",
   "metadata": {},
   "source": [
    "Приведем код классификатора без улучшений"
   ]
  },
  {
   "cell_type": "code",
   "execution_count": 1,
   "metadata": {},
   "outputs": [],
   "source": [
    "%matplotlib inline\n",
    "import re\n",
    "from collections import defaultdict\n",
    "import sys\n",
    "from math import log\n",
    "import pandas as pd\n",
    "import matplotlib.pyplot as plt\n",
    "import numpy as np\n"
   ]
  },
  {
   "cell_type": "code",
   "execution_count": 2,
   "metadata": {},
   "outputs": [],
   "source": [
    "def preprocessing(text):\n",
    "    text = text.lower()\n",
    "    remove_tags = re.compile('<.*?>')\n",
    "    text = re.sub(remove_tags, '', text)\n",
    "    text = ''.join(sym if (sym.isalnum() or sym in (\" \", )) else f\" {sym} \" for sym in text)\n",
    "    return text"
   ]
  },
  {
   "cell_type": "code",
   "execution_count": 3,
   "metadata": {},
   "outputs": [],
   "source": [
    "def tokenize_dataset(dataset):\n",
    "    \"\"\"\n",
    "        arg: list of texts\n",
    "        return: list of tokenized texts\n",
    "    \"\"\"\n",
    "    tokenizer = re.compile(\"-?\\d*[.,]?\\d+|[\\w]+|\\S\", re.MULTILINE | re.IGNORECASE)\n",
    "    return list(map(lambda doc: tokenizer.findall(doc), dataset))"
   ]
  },
  {
   "cell_type": "code",
   "execution_count": 4,
   "metadata": {},
   "outputs": [],
   "source": [
    "def train(dataset, labels, **kwargs):\n",
    "    word_to_ind = {}\n",
    "    free_ind = 0\n",
    "\n",
    "    pos_words = defaultdict(int)\n",
    "    word_in_pos_text = defaultdict(int)\n",
    "    neg_words = defaultdict(int)\n",
    "    word_in_neg_text = defaultdict(int)\n",
    "    cnt_pos = 0\n",
    "    cnt_neg = 0\n",
    "    N_words = -1\n",
    "    prob_w_cls = []\n",
    "    prob_cls = []\n",
    "    bigrams = True\n",
    "    #--------------------------------------\n",
    "    train_pos = [dataset[i] for i, lab in enumerate(labels) if lab == 'pos']\n",
    "    train_pos = list(map(preprocessing, train_pos))\n",
    "    train_pos = tokenize_dataset(train_pos)\n",
    "\n",
    "    train_neg = [dataset[i] for i, lab in enumerate(labels) if lab == 'neg']\n",
    "    train_neg = list(map(preprocessing, train_neg))\n",
    "    train_neg = tokenize_dataset(train_neg)\n",
    "\n",
    "    for text in train_pos:\n",
    "        been = set()\n",
    "        for word in text:\n",
    "            pos_words[word] += 1\n",
    "            cnt_pos += 1\n",
    "            if word not in word_to_ind:\n",
    "                word_to_ind[word] = free_ind\n",
    "                free_ind += 1\n",
    "            if word not in been:\n",
    "                ind = word_to_ind[word]\n",
    "                word_in_pos_text[ind] += 1\n",
    "                been.add(word)\n",
    "\n",
    "    if bigrams:\n",
    "        for text in train_pos:\n",
    "            been = set()\n",
    "            bigrams = [b for b in zip(text[:-1], text[1:])]\n",
    "            for word in bigrams:\n",
    "                pos_words[word] += 1\n",
    "                cnt_pos += 1\n",
    "                if word not in word_to_ind:\n",
    "                    word_to_ind[word] = free_ind\n",
    "                    free_ind += 1\n",
    "                if word not in been:\n",
    "                    ind = word_to_ind[word]\n",
    "                    word_in_pos_text[ind] += 1\n",
    "                    been.add(word)\n",
    "\n",
    "    for text in train_neg:\n",
    "        been = set()\n",
    "        for word in text:\n",
    "            neg_words[word] += 1\n",
    "            cnt_neg += 1\n",
    "            if word not in word_to_ind:\n",
    "                word_to_ind[word] = free_ind\n",
    "                free_ind += 1\n",
    "            if word not in been:\n",
    "                ind = word_to_ind[word]\n",
    "                word_in_neg_text[ind] += 1\n",
    "                been.add(word)    \n",
    "\n",
    "    if bigrams:\n",
    "        for text in train_neg:\n",
    "            been = set()\n",
    "            bigrams = [b for b in zip(text[:-1], text[1:])]\n",
    "            for word in bigrams:\n",
    "                neg_words[word] += 1\n",
    "                cnt_neg += 1\n",
    "                if word not in word_to_ind:\n",
    "                    word_to_ind[word] = free_ind\n",
    "                    free_ind += 1\n",
    "                if word not in been:\n",
    "                    ind = word_to_ind[word]\n",
    "                    word_in_neg_text[ind] += 1\n",
    "                    been.add(word)\n",
    "\n",
    "    N_words = len(word_to_ind)\n",
    "\n",
    "    def cnt_prob_word_cls(ind, cls):\n",
    "        if cls == 'neg':\n",
    "            cnt = word_in_neg_text[ind] if ind != -1 else 0\n",
    "            return (1 + cnt) / (cnt_neg + len(word_to_ind))\n",
    "        else:\n",
    "            cnt = word_in_pos_text[ind] if ind != -1 else 0\n",
    "            return (1 + cnt) / (cnt_pos + len(word_to_ind))\n",
    "\n",
    "    def cnt_prob_cls(cls):\n",
    "    # 0 - neg, 1 - pos\n",
    "        if cls == 0:\n",
    "            return len(train_neg) / (len(train_neg) + len(train_pos))\n",
    "        else:\n",
    "            return len(train_pos) / (len(train_neg) + len(train_pos))\n",
    "\n",
    "    prob_w_cls = [[cnt_prob_word_cls(i, cls) for i in range(N_words)] + [cnt_prob_word_cls(-1, cls)] for cls in ('neg', 'pos')]\n",
    "    prob_cls = [cnt_prob_cls(cls) for cls in ('neg', 'pos')]\n",
    "\n",
    "    return word_to_ind, prob_w_cls, prob_cls, bigrams"
   ]
  },
  {
   "cell_type": "code",
   "execution_count": 5,
   "metadata": {},
   "outputs": [],
   "source": [
    "def vectorize(tokenized_texts, word_to_ind, mode, bigrams=True):\n",
    "    res = [defaultdict(int) for _ in range(len(tokenized_texts))]\n",
    "    for ind, text in enumerate(tokenized_texts):\n",
    "        for token in text:\n",
    "            if token in word_to_ind:\n",
    "                res[ind][word_to_ind[token]] += 1\n",
    "            else:\n",
    "                res[ind][-1] += 1\n",
    "    if bigrams:\n",
    "        for ind, text in enumerate(tokenized_texts):\n",
    "            bigrams = [b for b in zip(text[:-1], text[1:])]\n",
    "            for token in bigrams:\n",
    "                if token in word_to_ind:\n",
    "                    res[ind][word_to_ind[token]] += 1\n",
    "                else:\n",
    "                    res[ind][-1] += 1\n",
    "    if mode == 'bern':\n",
    "        for text in res:\n",
    "            for k, v in text.items():\n",
    "                if v > 0:\n",
    "                    text[k] = 1\n",
    "    return res"
   ]
  },
  {
   "cell_type": "code",
   "execution_count": 6,
   "metadata": {},
   "outputs": [],
   "source": [
    "def classify_mult(vectorized_text, prob_w_cls, prob_cls):\n",
    "    # 0 - neg, 1 - pos\n",
    "    classes = (0, 1)\n",
    "    res = []\n",
    "    for cls in classes:\n",
    "        cur_res = 0\n",
    "        for word in vectorized_text.keys():\n",
    "            try:\n",
    "                cur_res += log(prob_w_cls[cls][word]) * vectorized_text[word]\n",
    "            except Exception:\n",
    "                print(cls, word, len(vectorized_text), len(prob_w_cls[0]), len(prob_w_cls[1]))\n",
    "        cur_res += log(prob_cls[cls])\n",
    "        res.append(cur_res)\n",
    "    if res[0] > res[1]:\n",
    "        label = 0\n",
    "    else:\n",
    "        label = 1\n",
    "    return label"
   ]
  },
  {
   "cell_type": "code",
   "execution_count": 7,
   "metadata": {},
   "outputs": [],
   "source": [
    "def classify(dataset, params):\n",
    "    #preprocessing\n",
    "    word_to_ind, prob_w_cls, prob_cls, bigr = params\n",
    "    dataset = list(map(preprocessing, dataset))\n",
    "    dataset = tokenize_dataset(dataset)\n",
    "    dataset = vectorize(dataset, word_to_ind, mode='mult', bigrams=bigr)\n",
    "    probs = []\n",
    "    size = len(dataset)\n",
    "    for i, text in enumerate(dataset):\n",
    "        probs.append(classify_mult(text, prob_w_cls, prob_cls))\n",
    "    res = ['pos' if pr else 'neg' for pr in probs]\n",
    "    return res"
   ]
  },
  {
   "cell_type": "code",
   "execution_count": 8,
   "metadata": {},
   "outputs": [],
   "source": [
    "def score(my_labels, corr_labels):\n",
    "    corr = 0\n",
    "    for pair in zip(my_labels, corr_labels):\n",
    "        corr += int(pair[0] == pair[1])\n",
    "    return corr / len(my_labels)"
   ]
  },
  {
   "cell_type": "code",
   "execution_count": 9,
   "metadata": {},
   "outputs": [],
   "source": [
    "def test_model(train_params):\n",
    "    train_texts_path = \"./filimdb_evaluation/FILIMDB/train.texts\"\n",
    "    train_labels_path = \"./filimdb_evaluation/FILIMDB/train.labels\"\n",
    "\n",
    "    dev_texts_path = \"./filimdb_evaluation/FILIMDB/dev.texts\"\n",
    "    dev_labels_path = \"./filimdb_evaluation/FILIMDB/dev.labels\"\n",
    "\n",
    "    with open(train_texts_path, 'r', encoding='utf-8') as inp:\n",
    "        train_data = list(map(str.strip, inp.readlines()))\n",
    "    with open(train_labels_path, 'r', encoding='utf-8') as inp:\n",
    "        train_labels = list(map(str.strip, inp.readlines()))\n",
    "\n",
    "    with open(dev_texts_path, 'r', encoding='utf-8') as inp:\n",
    "        dev_data = list(map(str.strip, inp.readlines()))\n",
    "    with open(dev_labels_path, 'r', encoding='utf-8') as inp:\n",
    "        dev_labels = list(map(str.strip, inp.readlines()))\n",
    "\n",
    "    train_info = train(train_data, train_labels, **train_params)\n",
    "    print(\"TRAINING DONE\")\n",
    "    train_acc = score(classify(train_data, train_info), train_labels)\n",
    "    dev_acc = score(classify(dev_data, train_info), dev_labels)\n",
    "    print(\"CLASSIFY DONE\")\n",
    "    return pd.DataFrame(index=[1],data={'train_acc':train_acc, 'dev_acc':dev_acc}), (train_acc, dev_acc), len(train_info[0])"
   ]
  },
  {
   "cell_type": "markdown",
   "metadata": {},
   "source": [
    "Изначальные значения мультиномиальной модели с биграммами."
   ]
  },
  {
   "cell_type": "code",
   "execution_count": 10,
   "metadata": {},
   "outputs": [
    {
     "name": "stdout",
     "output_type": "stream",
     "text": [
      "TRAINING DONE\n",
      "CLASSIFY DONE\n"
     ]
    },
    {
     "data": {
      "text/html": [
       "<div>\n",
       "<style scoped>\n",
       "    .dataframe tbody tr th:only-of-type {\n",
       "        vertical-align: middle;\n",
       "    }\n",
       "\n",
       "    .dataframe tbody tr th {\n",
       "        vertical-align: top;\n",
       "    }\n",
       "\n",
       "    .dataframe thead th {\n",
       "        text-align: right;\n",
       "    }\n",
       "</style>\n",
       "<table border=\"1\" class=\"dataframe\">\n",
       "  <thead>\n",
       "    <tr style=\"text-align: right;\">\n",
       "      <th></th>\n",
       "      <th>train_acc</th>\n",
       "      <th>dev_acc</th>\n",
       "    </tr>\n",
       "  </thead>\n",
       "  <tbody>\n",
       "    <tr>\n",
       "      <th>1</th>\n",
       "      <td>0.986267</td>\n",
       "      <td>0.8669</td>\n",
       "    </tr>\n",
       "  </tbody>\n",
       "</table>\n",
       "</div>"
      ],
      "text/plain": [
       "   train_acc  dev_acc\n",
       "1   0.986267   0.8669"
      ]
     },
     "execution_count": 10,
     "metadata": {},
     "output_type": "execute_result"
    }
   ],
   "source": [
    "test_model({})[0]"
   ]
  },
  {
   "cell_type": "markdown",
   "metadata": {},
   "source": [
    "### 1. \n",
    "**Попробуйте удалить из словаря слова, которые встретились < tf_min_cnt раз.**"
   ]
  },
  {
   "cell_type": "code",
   "execution_count": 11,
   "metadata": {},
   "outputs": [],
   "source": [
    "def train(dataset, labels, tf_min_cnt=2, bigrams=True):\n",
    "    word_to_ind = {}\n",
    "    free_ind = 0\n",
    "\n",
    "    pos_words = defaultdict(int)\n",
    "    word_in_pos_text = defaultdict(int)\n",
    "    neg_words = defaultdict(int)\n",
    "    word_in_neg_text = defaultdict(int)\n",
    "    cnt_pos = 0\n",
    "    cnt_neg = 0\n",
    "    N_words = -1\n",
    "    prob_w_cls = []\n",
    "    prob_cls = []\n",
    "#     bigrams = True\n",
    "    #--------------------------------------\n",
    "    train_pos = [dataset[i] for i, lab in enumerate(labels) if lab == 'pos']\n",
    "    train_pos = list(map(preprocessing, train_pos))\n",
    "    train_pos = tokenize_dataset(train_pos)\n",
    "\n",
    "    train_neg = [dataset[i] for i, lab in enumerate(labels) if lab == 'neg']\n",
    "    train_neg = list(map(preprocessing, train_neg))\n",
    "    train_neg = tokenize_dataset(train_neg)\n",
    "\n",
    "    for text in train_pos:\n",
    "        been = set()\n",
    "        for word in text:\n",
    "            pos_words[word] += 1\n",
    "            cnt_pos += 1\n",
    "            if word not in word_to_ind:\n",
    "                word_to_ind[word] = free_ind\n",
    "                free_ind += 1\n",
    "            if word not in been:\n",
    "                ind = word_to_ind[word]\n",
    "                word_in_pos_text[ind] += 1\n",
    "                been.add(word)\n",
    "\n",
    "    if bigrams:\n",
    "        for text in train_pos:\n",
    "            been = set()\n",
    "            bigrams = [b for b in zip(text[:-1], text[1:])]\n",
    "            for word in bigrams:\n",
    "                pos_words[word] += 1\n",
    "                cnt_pos += 1\n",
    "                if word not in word_to_ind:\n",
    "                    word_to_ind[word] = free_ind\n",
    "                    free_ind += 1\n",
    "                if word not in been:\n",
    "                    ind = word_to_ind[word]\n",
    "                    word_in_pos_text[ind] += 1\n",
    "                    been.add(word)\n",
    "\n",
    "    for text in train_neg:\n",
    "        been = set()\n",
    "        for word in text:\n",
    "            neg_words[word] += 1\n",
    "            cnt_neg += 1\n",
    "            if word not in word_to_ind:\n",
    "                word_to_ind[word] = free_ind\n",
    "                free_ind += 1\n",
    "            if word not in been:\n",
    "                ind = word_to_ind[word]\n",
    "                word_in_neg_text[ind] += 1\n",
    "                been.add(word)    \n",
    "\n",
    "    if bigrams:\n",
    "        for text in train_neg:\n",
    "            been = set()\n",
    "            bigrams = [b for b in zip(text[:-1], text[1:])]\n",
    "            for word in bigrams:\n",
    "                neg_words[word] += 1\n",
    "                cnt_neg += 1\n",
    "                if word not in word_to_ind:\n",
    "                    word_to_ind[word] = free_ind\n",
    "                    free_ind += 1\n",
    "                if word not in been:\n",
    "                    ind = word_to_ind[word]\n",
    "                    word_in_neg_text[ind] += 1\n",
    "                    been.add(word)\n",
    "\n",
    "    # Deleting words with term_freq < min_cnt.\n",
    "    for w, ind in list(word_to_ind.items()):\n",
    "        w_pos = pos_words[w]\n",
    "        w_neg = neg_words[w]\n",
    "        if w_pos + w_neg < tf_min_cnt:\n",
    "            cnt_pos -= w_pos\n",
    "            cnt_neg -= w_neg\n",
    "            pos_words.pop(w, -1)\n",
    "            neg_words.pop(w, -1)\n",
    "            word_in_pos_text.pop(ind, -1)\n",
    "            word_in_neg_text.pop(ind, -1)\n",
    "            word_to_ind.pop(w, -1)\n",
    "    \n",
    "    new_word_to_ind = {}\n",
    "    new_word_in_neg_text = {}\n",
    "    new_word_in_pos_text = {}\n",
    "    for ind, (w, old_ind) in enumerate(word_to_ind.items()):\n",
    "        try:\n",
    "            new_word_to_ind[w] = ind\n",
    "            new_word_in_neg_text[ind] = word_in_neg_text[old_ind]\n",
    "            new_word_in_pos_text[ind] = word_in_pos_text[old_ind]\n",
    "        except Exception:\n",
    "            print(ind, w, old_ind)\n",
    "    \n",
    "    word_to_ind = new_word_to_ind\n",
    "    word_in_pos_text = new_word_in_pos_text\n",
    "    word_in_neg_text = new_word_in_neg_text\n",
    "    \n",
    "    N_words = len(word_to_ind)\n",
    "\n",
    "    def cnt_prob_word_cls(ind, cls):\n",
    "        if cls == 'neg':\n",
    "            cnt = word_in_neg_text[ind] if ind != -1 else 0\n",
    "            return (1 + cnt) / (cnt_neg + len(word_to_ind))\n",
    "        else:\n",
    "            cnt = word_in_pos_text[ind] if ind != -1 else 0\n",
    "            return (1 + cnt) / (cnt_pos + len(word_to_ind))\n",
    "\n",
    "    def cnt_prob_cls(cls):\n",
    "    # 0 - neg, 1 - pos\n",
    "        if cls == 0:\n",
    "            return len(train_neg) / (len(train_neg) + len(train_pos))\n",
    "        else:\n",
    "            return len(train_pos) / (len(train_neg) + len(train_pos))\n",
    "\n",
    "    prob_w_cls = [[cnt_prob_word_cls(i, cls) for i in range(N_words)] + [cnt_prob_word_cls(-1, cls)] for cls in ('neg', 'pos')]\n",
    "    prob_cls = [cnt_prob_cls(cls) for cls in ('neg', 'pos')]\n",
    "\n",
    "    return word_to_ind, prob_w_cls, prob_cls, bigrams"
   ]
  },
  {
   "cell_type": "code",
   "execution_count": 12,
   "metadata": {},
   "outputs": [],
   "source": [
    "def graph_accs(train_accs, dev_accs, dict_size):\n",
    "    fig, ax = plt.subplots(1, 2, figsize=(12,5))\n",
    "    ax[0].plot(dict_size, train_accs)\n",
    "    ax[0].set_ylabel(\"train_acc\")\n",
    "    ax[0].set_xlabel(\"dict_size\")\n",
    "    ax[1].plot(dict_size, dev_accs)\n",
    "    ax[1].set_ylabel(\"dev_acc\")\n",
    "    ax[1].set_xlabel(\"dict_size\")\n",
    "    plt.show()"
   ]
  },
  {
   "cell_type": "markdown",
   "metadata": {},
   "source": [
    "**Результаты для униграмной модели**"
   ]
  },
  {
   "cell_type": "code",
   "execution_count": 16,
   "metadata": {},
   "outputs": [
    {
     "name": "stdout",
     "output_type": "stream",
     "text": [
      "TRAINING DONE\n",
      "CLASSIFY DONE\n",
      "TRAINING DONE\n",
      "CLASSIFY DONE\n",
      "TRAINING DONE\n",
      "CLASSIFY DONE\n",
      "TRAINING DONE\n",
      "CLASSIFY DONE\n",
      "TRAINING DONE\n",
      "CLASSIFY DONE\n",
      "TRAINING DONE\n",
      "CLASSIFY DONE\n",
      "TRAINING DONE\n",
      "CLASSIFY DONE\n",
      "TRAINING DONE\n",
      "CLASSIFY DONE\n",
      "TRAINING DONE\n",
      "CLASSIFY DONE\n"
     ]
    },
    {
     "data": {
      "image/png": "[encoded data removed]",
      "text/plain": [
       "<Figure size 864x360 with 2 Axes>"
      ]
     },
     "metadata": {
      "needs_background": "light"
     },
     "output_type": "display_data"
    }
   ],
   "source": [
    "test_accs = []\n",
    "dev_accs = []\n",
    "dict_size = []\n",
    "for tf in range(2, 11):\n",
    "    res = test_model({'tf_min_cnt' : tf, 'bigrams': False})\n",
    "    test_accs.append(res[1][0])\n",
    "    dev_accs.append(res[1][1])\n",
    "    dict_size.append(res[2])\n",
    "graph_accs(test_accs, dev_accs, dict_size)"
   ]
  },
  {
   "cell_type": "markdown",
   "metadata": {},
   "source": [
    "**Результат для биграмной модели.**"
   ]
  },
  {
   "cell_type": "code",
   "execution_count": 17,
   "metadata": {},
   "outputs": [
    {
     "name": "stdout",
     "output_type": "stream",
     "text": [
      "TRAINING DONE\n",
      "CLASSIFY DONE\n",
      "TRAINING DONE\n",
      "CLASSIFY DONE\n",
      "TRAINING DONE\n",
      "CLASSIFY DONE\n",
      "TRAINING DONE\n",
      "CLASSIFY DONE\n",
      "TRAINING DONE\n",
      "CLASSIFY DONE\n",
      "TRAINING DONE\n",
      "CLASSIFY DONE\n",
      "TRAINING DONE\n",
      "CLASSIFY DONE\n",
      "TRAINING DONE\n",
      "CLASSIFY DONE\n",
      "TRAINING DONE\n",
      "CLASSIFY DONE\n"
     ]
    },
    {
     "data": {
      "image/png": "[encoded data removed]",
      "text/plain": [
       "<Figure size 864x360 with 2 Axes>"
      ]
     },
     "metadata": {
      "needs_background": "light"
     },
     "output_type": "display_data"
    }
   ],
   "source": [
    "test_accs = []\n",
    "dev_accs = []\n",
    "dict_size = []\n",
    "for tf in range(2, 11):\n",
    "    res = test_model({'tf_min_cnt' : tf, 'bigrams': True})\n",
    "    test_accs.append(res[1][0])\n",
    "    dev_accs.append(res[1][1])\n",
    "    dict_size.append(res[2])\n",
    "graph_accs(test_accs, dev_accs, dict_size)"
   ]
  },
  {
   "cell_type": "markdown",
   "metadata": {},
   "source": [
    "#### Теперь проверим отсечение по document_frec"
   ]
  },
  {
   "cell_type": "code",
   "execution_count": 18,
   "metadata": {},
   "outputs": [],
   "source": [
    "def train(dataset, labels, df_min_cnt=3, bigrams=True):\n",
    "    word_to_ind = {}\n",
    "    free_ind = 0\n",
    "\n",
    "    pos_words = defaultdict(int)\n",
    "    word_in_pos_text = defaultdict(int)\n",
    "    neg_words = defaultdict(int)\n",
    "    word_in_neg_text = defaultdict(int)\n",
    "    cnt_pos = 0\n",
    "    cnt_neg = 0\n",
    "    N_words = -1\n",
    "    prob_w_cls = []\n",
    "    prob_cls = []\n",
    "#     bigrams = False\n",
    "    #--------------------------------------\n",
    "    train_pos = [dataset[i] for i, lab in enumerate(labels) if lab == 'pos']\n",
    "    train_pos = list(map(preprocessing, train_pos))\n",
    "    train_pos = tokenize_dataset(train_pos)\n",
    "\n",
    "    train_neg = [dataset[i] for i, lab in enumerate(labels) if lab == 'neg']\n",
    "    train_neg = list(map(preprocessing, train_neg))\n",
    "    train_neg = tokenize_dataset(train_neg)\n",
    "\n",
    "    for text in train_pos:\n",
    "        been = set()\n",
    "        for word in text:\n",
    "            pos_words[word] += 1\n",
    "            cnt_pos += 1\n",
    "            if word not in word_to_ind:\n",
    "                word_to_ind[word] = free_ind\n",
    "                free_ind += 1\n",
    "            if word not in been:\n",
    "                ind = word_to_ind[word]\n",
    "                word_in_pos_text[ind] += 1\n",
    "                been.add(word)\n",
    "\n",
    "    if bigrams:\n",
    "        for text in train_pos:\n",
    "            been = set()\n",
    "            bigrams = [b for b in zip(text[:-1], text[1:])]\n",
    "            for word in bigrams:\n",
    "                pos_words[word] += 1\n",
    "                cnt_pos += 1\n",
    "                if word not in word_to_ind:\n",
    "                    word_to_ind[word] = free_ind\n",
    "                    free_ind += 1\n",
    "                if word not in been:\n",
    "                    ind = word_to_ind[word]\n",
    "                    word_in_pos_text[ind] += 1\n",
    "                    been.add(word)\n",
    "\n",
    "    for text in train_neg:\n",
    "        been = set()\n",
    "        for word in text:\n",
    "            neg_words[word] += 1\n",
    "            cnt_neg += 1\n",
    "            if word not in word_to_ind:\n",
    "                word_to_ind[word] = free_ind\n",
    "                free_ind += 1\n",
    "            if word not in been:\n",
    "                ind = word_to_ind[word]\n",
    "                word_in_neg_text[ind] += 1\n",
    "                been.add(word)    \n",
    "\n",
    "    if bigrams:\n",
    "        for text in train_neg:\n",
    "            been = set()\n",
    "            bigrams = [b for b in zip(text[:-1], text[1:])]\n",
    "            for word in bigrams:\n",
    "                neg_words[word] += 1\n",
    "                cnt_neg += 1\n",
    "                if word not in word_to_ind:\n",
    "                    word_to_ind[word] = free_ind\n",
    "                    free_ind += 1\n",
    "                if word not in been:\n",
    "                    ind = word_to_ind[word]\n",
    "                    word_in_neg_text[ind] += 1\n",
    "                    been.add(word)\n",
    "\n",
    "    # Deleting words with doc_freq < min_cnt.\n",
    "    for w, ind in list(word_to_ind.items()):\n",
    "        w_pos_text = word_in_pos_text[ind]\n",
    "        w_neg_text = word_in_neg_text[ind]\n",
    "        if w_pos_text + w_neg_text < df_min_cnt:\n",
    "            cnt_pos -= pos_words[w]\n",
    "            cnt_neg -= neg_words[w]\n",
    "            pos_words.pop(w, -1)\n",
    "            neg_words.pop(w, -1)\n",
    "            word_in_pos_text.pop(ind, -1)\n",
    "            word_in_neg_text.pop(ind, -1)\n",
    "            word_to_ind.pop(w, -1)\n",
    "    \n",
    "    new_word_to_ind = {}\n",
    "    new_word_in_neg_text = {}\n",
    "    new_word_in_pos_text = {}\n",
    "    for ind, (w, old_ind) in enumerate(word_to_ind.items()):\n",
    "        try:\n",
    "            new_word_to_ind[w] = ind\n",
    "            new_word_in_neg_text[ind] = word_in_neg_text[old_ind]\n",
    "            new_word_in_pos_text[ind] = word_in_pos_text[old_ind]\n",
    "        except Exception:\n",
    "            print(ind, w, old_ind)\n",
    "    \n",
    "    word_to_ind = new_word_to_ind\n",
    "    word_in_pos_text = new_word_in_pos_text\n",
    "    word_in_neg_text = new_word_in_neg_text\n",
    "    \n",
    "    N_words = len(word_to_ind)\n",
    "\n",
    "    def cnt_prob_word_cls(ind, cls):\n",
    "        if cls == 'neg':\n",
    "            cnt = word_in_neg_text[ind] if ind != -1 else 0\n",
    "            return (1 + cnt) / (cnt_neg + len(word_to_ind))\n",
    "        else:\n",
    "            cnt = word_in_pos_text[ind] if ind != -1 else 0\n",
    "            return (1 + cnt) / (cnt_pos + len(word_to_ind))\n",
    "\n",
    "    def cnt_prob_cls(cls):\n",
    "    # 0 - neg, 1 - pos\n",
    "        if cls == 0:\n",
    "            return len(train_neg) / (len(train_neg) + len(train_pos))\n",
    "        else:\n",
    "            return len(train_pos) / (len(train_neg) + len(train_pos))\n",
    "\n",
    "    prob_w_cls = [[cnt_prob_word_cls(i, cls) for i in range(N_words)] + [cnt_prob_word_cls(-1, cls)] for cls in ('neg', 'pos')]\n",
    "    prob_cls = [cnt_prob_cls(cls) for cls in ('neg', 'pos')]\n",
    "\n",
    "    return word_to_ind, prob_w_cls, prob_cls, bigrams"
   ]
  },
  {
   "cell_type": "markdown",
   "metadata": {},
   "source": [
    "**Точность для униграмной модели**"
   ]
  },
  {
   "cell_type": "code",
   "execution_count": 20,
   "metadata": {},
   "outputs": [
    {
     "name": "stdout",
     "output_type": "stream",
     "text": [
      "TRAINING DONE\n",
      "CLASSIFY DONE\n",
      "TRAINING DONE\n",
      "CLASSIFY DONE\n",
      "TRAINING DONE\n",
      "CLASSIFY DONE\n"
     ]
    },
    {
     "data": {
      "image/png": "[encoded data removed]",
      "text/plain": [
       "<Figure size 864x360 with 2 Axes>"
      ]
     },
     "metadata": {
      "needs_background": "light"
     },
     "output_type": "display_data"
    }
   ],
   "source": [
    "test_accs = []\n",
    "dev_accs = []\n",
    "dict_size = []\n",
    "for df in range(2, 5):\n",
    "    res = test_model({'df_min_cnt' : df, 'bigrams': False})\n",
    "    test_accs.append(res[1][0])\n",
    "    dev_accs.append(res[1][1])\n",
    "    dict_size.append(res[2])\n",
    "graph_accs(test_accs, dev_accs, dict_size)"
   ]
  },
  {
   "cell_type": "markdown",
   "metadata": {},
   "source": [
    "**Точность для биграмной модели**"
   ]
  },
  {
   "cell_type": "code",
   "execution_count": 21,
   "metadata": {},
   "outputs": [
    {
     "name": "stdout",
     "output_type": "stream",
     "text": [
      "TRAINING DONE\n",
      "CLASSIFY DONE\n",
      "TRAINING DONE\n",
      "CLASSIFY DONE\n",
      "TRAINING DONE\n",
      "CLASSIFY DONE\n"
     ]
    },
    {
     "data": {
      "image/png": "[encoded data removed]",
      "text/plain": [
       "<Figure size 864x360 with 2 Axes>"
      ]
     },
     "metadata": {
      "needs_background": "light"
     },
     "output_type": "display_data"
    }
   ],
   "source": [
    "test_accs = []\n",
    "dev_accs = []\n",
    "dict_size = []\n",
    "for df in range(2, 5):\n",
    "    res = test_model({'df_min_cnt' : df, 'bigrams': True})\n",
    "    test_accs.append(res[1][0])\n",
    "    dev_accs.append(res[1][1])\n",
    "    dict_size.append(res[2])\n",
    "graph_accs(test_accs, dev_accs, dict_size)"
   ]
  },
  {
   "cell_type": "markdown",
   "metadata": {},
   "source": [
    "На всех моделях можно наблюдать снижении точности.\\\n",
    "Я думаю это происходит из-за того, что тексты становятся более похожими друг на друга, ведь уникальные слова удаляются. И доля местоимений, служебных слов и других бесполезных для классификации слов становится больше.\\\n",
    "При одинаковых размерах словаря точность на dev датасете примерно одинакова для этих ограничений."
   ]
  },
  {
   "cell_type": "markdown",
   "metadata": {},
   "source": [
    "### b) Что будет, если не учитывать частоты слов в мультиномиальном байесе?"
   ]
  },
  {
   "cell_type": "code",
   "execution_count": 22,
   "metadata": {},
   "outputs": [],
   "source": [
    "def train(dataset, labels, tf_min_cnt=3, bigrams=True):\n",
    "    word_to_ind = {}\n",
    "    free_ind = 0\n",
    "\n",
    "    pos_words = defaultdict(int)\n",
    "    word_in_pos_text = defaultdict(int)\n",
    "    neg_words = defaultdict(int)\n",
    "    word_in_neg_text = defaultdict(int)\n",
    "    cnt_pos = 0\n",
    "    cnt_neg = 0\n",
    "    N_words = -1\n",
    "    prob_w_cls = []\n",
    "    prob_cls = []\n",
    "#     bigrams = True\n",
    "    #--------------------------------------\n",
    "    train_pos = [dataset[i] for i, lab in enumerate(labels) if lab == 'pos']\n",
    "    train_pos = list(map(preprocessing, train_pos))\n",
    "    train_pos = tokenize_dataset(train_pos)\n",
    "\n",
    "    train_neg = [dataset[i] for i, lab in enumerate(labels) if lab == 'neg']\n",
    "    train_neg = list(map(preprocessing, train_neg))\n",
    "    train_neg = tokenize_dataset(train_neg)\n",
    "\n",
    "    for text in train_pos:\n",
    "        been = set()\n",
    "        for word in text:\n",
    "            pos_words[word] += 1\n",
    "            cnt_pos += 1\n",
    "            if word not in word_to_ind:\n",
    "                word_to_ind[word] = free_ind\n",
    "                free_ind += 1\n",
    "            if word not in been:\n",
    "                ind = word_to_ind[word]\n",
    "                word_in_pos_text[ind] += 1\n",
    "                been.add(word)\n",
    "\n",
    "    if bigrams:\n",
    "        for text in train_pos:\n",
    "            been = set()\n",
    "            bigrams = [b for b in zip(text[:-1], text[1:])]\n",
    "            for word in bigrams:\n",
    "                pos_words[word] += 1\n",
    "                cnt_pos += 1\n",
    "                if word not in word_to_ind:\n",
    "                    word_to_ind[word] = free_ind\n",
    "                    free_ind += 1\n",
    "                if word not in been:\n",
    "                    ind = word_to_ind[word]\n",
    "                    word_in_pos_text[ind] += 1\n",
    "                    been.add(word)\n",
    "\n",
    "    for text in train_neg:\n",
    "        been = set()\n",
    "        for word in text:\n",
    "            neg_words[word] += 1\n",
    "            cnt_neg += 1\n",
    "            if word not in word_to_ind:\n",
    "                word_to_ind[word] = free_ind\n",
    "                free_ind += 1\n",
    "            if word not in been:\n",
    "                ind = word_to_ind[word]\n",
    "                word_in_neg_text[ind] += 1\n",
    "                been.add(word)    \n",
    "\n",
    "    if bigrams:\n",
    "        for text in train_neg:\n",
    "            been = set()\n",
    "            bigrams = [b for b in zip(text[:-1], text[1:])]\n",
    "            for word in bigrams:\n",
    "                neg_words[word] += 1\n",
    "                cnt_neg += 1\n",
    "                if word not in word_to_ind:\n",
    "                    word_to_ind[word] = free_ind\n",
    "                    free_ind += 1\n",
    "                if word not in been:\n",
    "                    ind = word_to_ind[word]\n",
    "                    word_in_neg_text[ind] += 1\n",
    "                    been.add(word)\n",
    "    \n",
    "    N_words = len(word_to_ind)\n",
    "\n",
    "    def cnt_prob_word_cls(ind, cls):\n",
    "        if cls == 'neg':\n",
    "            cnt = word_in_neg_text[ind] if ind != -1 else 0\n",
    "            return (1 + cnt) / (cnt_neg + len(word_to_ind))\n",
    "        else:\n",
    "            cnt = word_in_pos_text[ind] if ind != -1 else 0\n",
    "            return (1 + cnt) / (cnt_pos + len(word_to_ind))\n",
    "\n",
    "    def cnt_prob_cls(cls):\n",
    "    # 0 - neg, 1 - pos\n",
    "        if cls == 0:\n",
    "            return len(train_neg) / (len(train_neg) + len(train_pos))\n",
    "        else:\n",
    "            return len(train_pos) / (len(train_neg) + len(train_pos))\n",
    "\n",
    "    prob_w_cls = [[cnt_prob_word_cls(i, cls) for i in range(N_words)] + [cnt_prob_word_cls(-1, cls)] for cls in ('neg', 'pos')]\n",
    "    prob_cls = [cnt_prob_cls(cls) for cls in ('neg', 'pos')]\n",
    "\n",
    "    return word_to_ind, prob_w_cls, prob_cls, bigrams"
   ]
  },
  {
   "cell_type": "code",
   "execution_count": 23,
   "metadata": {},
   "outputs": [
    {
     "name": "stdout",
     "output_type": "stream",
     "text": [
      "TRAINING DONE\n",
      "CLASSIFY DONE\n"
     ]
    },
    {
     "data": {
      "text/html": [
       "<div>\n",
       "<style scoped>\n",
       "    .dataframe tbody tr th:only-of-type {\n",
       "        vertical-align: middle;\n",
       "    }\n",
       "\n",
       "    .dataframe tbody tr th {\n",
       "        vertical-align: top;\n",
       "    }\n",
       "\n",
       "    .dataframe thead th {\n",
       "        text-align: right;\n",
       "    }\n",
       "</style>\n",
       "<table border=\"1\" class=\"dataframe\">\n",
       "  <thead>\n",
       "    <tr style=\"text-align: right;\">\n",
       "      <th></th>\n",
       "      <th>train_acc</th>\n",
       "      <th>dev_acc</th>\n",
       "    </tr>\n",
       "  </thead>\n",
       "  <tbody>\n",
       "    <tr>\n",
       "      <th>1</th>\n",
       "      <td>0.992467</td>\n",
       "      <td>0.8737</td>\n",
       "    </tr>\n",
       "  </tbody>\n",
       "</table>\n",
       "</div>"
      ],
      "text/plain": [
       "   train_acc  dev_acc\n",
       "1   0.992467   0.8737"
      ]
     },
     "execution_count": 23,
     "metadata": {},
     "output_type": "execute_result"
    }
   ],
   "source": [
    "def classify(dataset, params):\n",
    "    #preprocessing\n",
    "    word_to_ind, prob_w_cls, prob_cls, bigr = params\n",
    "    dataset = list(map(preprocessing, dataset))\n",
    "    dataset = tokenize_dataset(dataset)\n",
    "    dataset = vectorize(dataset, word_to_ind, mode='bern', bigrams=bigr)\n",
    "    probs = []\n",
    "    size = len(dataset)\n",
    "    for i, text in enumerate(dataset):\n",
    "        probs.append(classify_mult(text, prob_w_cls, prob_cls))\n",
    "    res = ['pos' if pr else 'neg' for pr in probs]\n",
    "    return res\n",
    "\n",
    "test_model({'bigrams':True})[0]"
   ]
  },
  {
   "cell_type": "markdown",
   "metadata": {},
   "source": [
    "Прирост в точности на 0.8 на dev датасете.\\\n",
    "Я думаю это происходит, потому что частые служебные слова перестают так сильно вносить вклад в общую вероятность.\\\n",
    "При этом точность 99.2 на train датасете может говорить о некотором переобучении."
   ]
  },
  {
   "cell_type": "markdown",
   "metadata": {},
   "source": [
    "**b.2) Попробуем удалить самые часто встречающиеся слова в выборке.**"
   ]
  },
  {
   "cell_type": "markdown",
   "metadata": {},
   "source": [
    "Построим гистограмму частотности слов в документах."
   ]
  },
  {
   "cell_type": "code",
   "execution_count": 24,
   "metadata": {},
   "outputs": [
    {
     "name": "stdout",
     "output_type": "stream",
     "text": [
      "956246\n"
     ]
    },
    {
     "data": {
      "image/png": "[encoded data removed]",
      "text/plain": [
       "<Figure size 1008x360 with 2 Axes>"
      ]
     },
     "metadata": {
      "needs_background": "light"
     },
     "output_type": "display_data"
    }
   ],
   "source": [
    "def show_freq(dataset, labels, bigrams=True):\n",
    "    word_to_ind = {}\n",
    "    free_ind = 0\n",
    "\n",
    "    pos_words = defaultdict(int)\n",
    "    word_in_pos_text = defaultdict(int)\n",
    "    neg_words = defaultdict(int)\n",
    "    word_in_neg_text = defaultdict(int)\n",
    "    cnt_pos = 0\n",
    "    cnt_neg = 0\n",
    "    N_words = -1\n",
    "    prob_w_cls = []\n",
    "    prob_cls = []\n",
    "    bigrams = True\n",
    "    trigrams = True\n",
    "    #--------------------------------------\n",
    "    train_pos = [dataset[i] for i, lab in enumerate(labels) if lab == 'pos']\n",
    "    train_pos = list(map(preprocessing, train_pos))\n",
    "    train_pos = tokenize_dataset(train_pos)\n",
    "\n",
    "    train_neg = [dataset[i] for i, lab in enumerate(labels) if lab == 'neg']\n",
    "    train_neg = list(map(preprocessing, train_neg))\n",
    "    train_neg = tokenize_dataset(train_neg)\n",
    "\n",
    "    for text in train_pos:\n",
    "        been = set()\n",
    "        for word in text:\n",
    "            if word not in word_to_ind:\n",
    "                word_to_ind[word] = free_ind\n",
    "                free_ind += 1\n",
    "            if word not in been:\n",
    "                ind = word_to_ind[word]\n",
    "                word_in_pos_text[ind] += 1\n",
    "                been.add(word)\n",
    "            pos_words[word_to_ind[word]] += 1\n",
    "            cnt_pos += 1\n",
    "\n",
    "    if bigrams:\n",
    "        for text in train_pos:\n",
    "            been = set()\n",
    "            bigr = [b for b in zip(text[:-1], text[1:])]\n",
    "            for word in bigr:\n",
    "                if word not in word_to_ind:\n",
    "                    word_to_ind[word] = free_ind\n",
    "                    free_ind += 1\n",
    "                if word not in been:\n",
    "                    ind = word_to_ind[word]\n",
    "                    word_in_pos_text[ind] += 1\n",
    "                    been.add(word)\n",
    "                pos_words[word_to_ind[word]] += 1\n",
    "                cnt_pos += 1\n",
    "\n",
    "\n",
    "    for text in train_neg:\n",
    "        been = set()\n",
    "        for word in text:\n",
    "            if word not in word_to_ind:\n",
    "                word_to_ind[word] = free_ind\n",
    "                free_ind += 1\n",
    "            if word not in been:\n",
    "                ind = word_to_ind[word]\n",
    "                word_in_neg_text[ind] += 1\n",
    "                been.add(word)    \n",
    "            neg_words[word_to_ind[word]] += 1\n",
    "            cnt_neg += 1\n",
    "\n",
    "    if bigrams:\n",
    "        for text in train_neg:\n",
    "            been = set()\n",
    "            bigr = [b for b in zip(text[:-1], text[1:])]\n",
    "            for word in bigr:\n",
    "                if word not in word_to_ind:\n",
    "                    word_to_ind[word] = free_ind\n",
    "                    free_ind += 1\n",
    "                if word not in been:\n",
    "                    ind = word_to_ind[word]\n",
    "                    word_in_neg_text[ind] += 1\n",
    "                    been.add(word)\n",
    "                neg_words[word_to_ind[word]] += 1\n",
    "                cnt_neg += 1\n",
    "                    \n",
    "    all_tokens = cnt_pos + cnt_neg\n",
    "    all_docs = len(train_pos) + len(train_neg)\n",
    "    ind_df = {}\n",
    "    ind_w_freq = {}\n",
    "    print(len(word_to_ind))\n",
    "    for w, ind in word_to_ind.items():\n",
    "#         cnt_freq[ind] = ((pos_words[w] + neg_words[w]) / all_tokens)\n",
    "        ind_df[ind] = (word_in_pos_text[ind] + word_in_neg_text[ind]) / all_docs\n",
    "        ind_w_freq[ind] = (pos_words[ind] + neg_words[ind]) / all_tokens\n",
    "    \n",
    "\n",
    "    df = sorted(list(ind_df.values()))\n",
    "    word_freq = sorted(list(ind_w_freq.values()))\n",
    "    \n",
    "    fig = plt.figure(figsize = (14, 5))\n",
    "    ax1 = plt.subplot(121)\n",
    "    f = ax1.hist(df, bins=100)\n",
    "    ax1.set_yscale('log')\n",
    "    ax1.set_title(\"df\")\n",
    "    \n",
    "    ax2 = plt.subplot(122)\n",
    "    f = ax2.hist(word_freq, bins=200)\n",
    "    ax2.set_title(\"word_freq\")\n",
    "    ax2.set_yscale('log')\n",
    "    \n",
    "train_texts_path = \"./filimdb_evaluation/FILIMDB/train.texts\"\n",
    "train_labels_path = \"./filimdb_evaluation/FILIMDB/train.labels\"\n",
    "with open(train_texts_path, 'r', encoding='utf-8') as inp:\n",
    "    train_data = list(map(str.strip, inp.readlines()))\n",
    "with open(train_labels_path, 'r', encoding='utf-8') as inp:\n",
    "    train_labels = list(map(str.strip, inp.readlines()))\n",
    "show_freq(train_data, train_labels)"
   ]
  },
  {
   "cell_type": "markdown",
   "metadata": {},
   "source": [
    "Из гистограммы видно, что есть всего около 1000 слов которые встерчаются более чем в 10 процентах текстов выборки.\\\n",
    "Если их выкинуть, то будет прирост по точности.\n",
    "Также я решил посмотреть на частотность слов, которые встречаются в выборке.\\\n",
    "После подбора этого параметра выяснилось, что если ограничить частотность слов до 0.00005, то можно ещё немного повысить точность(на 0.1)."
   ]
  },
  {
   "cell_type": "code",
   "execution_count": 25,
   "metadata": {},
   "outputs": [],
   "source": [
    "def train(dataset, labels, tf_min_cnt=3, freq_treshhold=0.00005, max_df=0.1, bigrams=True):\n",
    "    word_to_ind = {}\n",
    "    free_ind = 0\n",
    "\n",
    "    pos_words = defaultdict(int)\n",
    "    word_in_pos_text = defaultdict(int)\n",
    "    neg_words = defaultdict(int)\n",
    "    word_in_neg_text = defaultdict(int)\n",
    "    cnt_pos = 0\n",
    "    cnt_neg = 0\n",
    "    N_words = -1\n",
    "    prob_w_cls = []\n",
    "    prob_cls = []\n",
    "#     bigrams = True\n",
    "    #--------------------------------------\n",
    "    train_pos = [dataset[i] for i, lab in enumerate(labels) if lab == 'pos']\n",
    "    train_pos = list(map(preprocessing, train_pos))\n",
    "    train_pos = tokenize_dataset(train_pos)\n",
    "\n",
    "    train_neg = [dataset[i] for i, lab in enumerate(labels) if lab == 'neg']\n",
    "    train_neg = list(map(preprocessing, train_neg))\n",
    "    train_neg = tokenize_dataset(train_neg)\n",
    "\n",
    "    for text in train_pos:\n",
    "        been = set()\n",
    "        for word in text:\n",
    "            pos_words[word] += 1\n",
    "            cnt_pos += 1\n",
    "            if word not in word_to_ind:\n",
    "                word_to_ind[word] = free_ind\n",
    "                free_ind += 1\n",
    "            if word not in been:\n",
    "                ind = word_to_ind[word]\n",
    "                word_in_pos_text[ind] += 1\n",
    "                been.add(word)\n",
    "\n",
    "    if bigrams:\n",
    "        for text in train_pos:\n",
    "            been = set()\n",
    "            bigrams = [b for b in zip(text[:-1], text[1:])]\n",
    "            for word in bigrams:\n",
    "                pos_words[word] += 1\n",
    "                cnt_pos += 1\n",
    "                if word not in word_to_ind:\n",
    "                    word_to_ind[word] = free_ind\n",
    "                    free_ind += 1\n",
    "                if word not in been:\n",
    "                    ind = word_to_ind[word]\n",
    "                    word_in_pos_text[ind] += 1\n",
    "                    been.add(word)\n",
    "\n",
    "    for text in train_neg:\n",
    "        been = set()\n",
    "        for word in text:\n",
    "            neg_words[word] += 1\n",
    "            cnt_neg += 1\n",
    "            if word not in word_to_ind:\n",
    "                word_to_ind[word] = free_ind\n",
    "                free_ind += 1\n",
    "            if word not in been:\n",
    "                ind = word_to_ind[word]\n",
    "                word_in_neg_text[ind] += 1\n",
    "                been.add(word)    \n",
    "\n",
    "    if bigrams:\n",
    "        for text in train_neg:\n",
    "            been = set()\n",
    "            bigrams = [b for b in zip(text[:-1], text[1:])]\n",
    "            for word in bigrams:\n",
    "                neg_words[word] += 1\n",
    "                cnt_neg += 1\n",
    "                if word not in word_to_ind:\n",
    "                    word_to_ind[word] = free_ind\n",
    "                    free_ind += 1\n",
    "                if word not in been:\n",
    "                    ind = word_to_ind[word]\n",
    "                    word_in_neg_text[ind] += 1\n",
    "                    been.add(word)\n",
    "                    \n",
    "    all_tokens = cnt_pos + cnt_neg\n",
    "    # Deleting words with freq > freq_treshhold.\n",
    "    for w, ind in list(word_to_ind.items()):\n",
    "        w_pos = pos_words[w]\n",
    "        w_neg = neg_words[w]\n",
    "        w_pos_text = word_in_pos_text[ind]\n",
    "        w_neg_text = word_in_neg_text[ind]\n",
    "        if ((w_pos + w_neg) / all_tokens > freq_treshhold) or ((w_pos_text + w_neg_text) / len(dataset) > max_df) \\\n",
    "            or (w_pos + w_neg < tf_min_cnt):\n",
    "#             print(\"delete : \", w)\n",
    "            cnt_pos -= pos_words[w]\n",
    "            cnt_neg -= neg_words[w]\n",
    "            pos_words.pop(w, -1)\n",
    "            neg_words.pop(w, -1)\n",
    "            word_in_pos_text.pop(ind, -1)\n",
    "            word_in_neg_text.pop(ind, -1)\n",
    "            word_to_ind.pop(w, -1)\n",
    "    \n",
    "    new_word_to_ind = {}\n",
    "    new_word_in_neg_text = {}\n",
    "    new_word_in_pos_text = {}\n",
    "    for ind, (w, old_ind) in enumerate(word_to_ind.items()):\n",
    "        try:\n",
    "            new_word_to_ind[w] = ind\n",
    "            new_word_in_neg_text[ind] = word_in_neg_text[old_ind]\n",
    "            new_word_in_pos_text[ind] = word_in_pos_text[old_ind]\n",
    "        except Exception:\n",
    "            print(ind, w, old_ind)\n",
    "    \n",
    "    word_to_ind = new_word_to_ind\n",
    "    word_in_pos_text = new_word_in_pos_text\n",
    "    word_in_neg_text = new_word_in_neg_text\n",
    "    \n",
    "    N_words = len(word_to_ind)\n",
    "\n",
    "    def cnt_prob_word_cls(ind, cls):\n",
    "        if cls == 'neg':\n",
    "            cnt = word_in_neg_text[ind] if ind != -1 else 0\n",
    "            return (1 + cnt) / (cnt_neg + len(word_to_ind))\n",
    "        else:\n",
    "            cnt = word_in_pos_text[ind] if ind != -1 else 0\n",
    "            return (1 + cnt) / (cnt_pos + len(word_to_ind))\n",
    "\n",
    "    def cnt_prob_cls(cls):\n",
    "    # 0 - neg, 1 - pos\n",
    "        if cls == 0:\n",
    "            return len(train_neg) / (len(train_neg) + len(train_pos))\n",
    "        else:\n",
    "            return len(train_pos) / (len(train_neg) + len(train_pos))\n",
    "\n",
    "    prob_w_cls = [[cnt_prob_word_cls(i, cls) for i in range(N_words)] + [cnt_prob_word_cls(-1, cls)] for cls in ('neg', 'pos')]\n",
    "    prob_cls = [cnt_prob_cls(cls) for cls in ('neg', 'pos')]\n",
    "\n",
    "    return word_to_ind, prob_w_cls, prob_cls, bigrams"
   ]
  },
  {
   "cell_type": "code",
   "execution_count": 26,
   "metadata": {},
   "outputs": [
    {
     "name": "stdout",
     "output_type": "stream",
     "text": [
      "TRAINING DONE\n",
      "CLASSIFY DONE\n"
     ]
    },
    {
     "data": {
      "text/html": [
       "<div>\n",
       "<style scoped>\n",
       "    .dataframe tbody tr th:only-of-type {\n",
       "        vertical-align: middle;\n",
       "    }\n",
       "\n",
       "    .dataframe tbody tr th {\n",
       "        vertical-align: top;\n",
       "    }\n",
       "\n",
       "    .dataframe thead th {\n",
       "        text-align: right;\n",
       "    }\n",
       "</style>\n",
       "<table border=\"1\" class=\"dataframe\">\n",
       "  <thead>\n",
       "    <tr style=\"text-align: right;\">\n",
       "      <th></th>\n",
       "      <th>train_acc</th>\n",
       "      <th>dev_acc</th>\n",
       "    </tr>\n",
       "  </thead>\n",
       "  <tbody>\n",
       "    <tr>\n",
       "      <th>1</th>\n",
       "      <td>0.997667</td>\n",
       "      <td>0.8836</td>\n",
       "    </tr>\n",
       "  </tbody>\n",
       "</table>\n",
       "</div>"
      ],
      "text/plain": [
       "   train_acc  dev_acc\n",
       "1   0.997667   0.8836"
      ]
     },
     "execution_count": 26,
     "metadata": {},
     "output_type": "execute_result"
    }
   ],
   "source": [
    "\n",
    "test_model({'freq_treshhold':0.00005,'tf_min_cnt':1,'max_df':0.2, 'bigrams':True})[0]"
   ]
  },
  {
   "cell_type": "markdown",
   "metadata": {},
   "source": [
    "### с) Что будет, если поменять предобработку?\n"
   ]
  },
  {
   "cell_type": "markdown",
   "metadata": {},
   "source": [
    "**1.** Поменять числа на токен NUMBER."
   ]
  },
  {
   "cell_type": "code",
   "execution_count": 31,
   "metadata": {},
   "outputs": [],
   "source": [
    "def preprocessing(text):\n",
    "    text = text.lower()\n",
    "    remove_tags = re.compile(r'<.*?>')\n",
    "    text = re.sub(remove_tags, '', text)\n",
    "    remove_numbers = re.compile(r'-?\\d*[.,]?\\d+')\n",
    "    text = re.sub(remove_numbers, 'NUMBER', text)\n",
    "    text = ''.join(sym if (sym.isalnum() or sym in (\" \", \"'\")) else f\" {sym} \" for sym in text)\n",
    "    return text"
   ]
  },
  {
   "cell_type": "code",
   "execution_count": 32,
   "metadata": {},
   "outputs": [
    {
     "name": "stdout",
     "output_type": "stream",
     "text": [
      "TRAINING DONE\n",
      "CLASSIFY DONE\n"
     ]
    },
    {
     "data": {
      "text/html": [
       "<div>\n",
       "<style scoped>\n",
       "    .dataframe tbody tr th:only-of-type {\n",
       "        vertical-align: middle;\n",
       "    }\n",
       "\n",
       "    .dataframe tbody tr th {\n",
       "        vertical-align: top;\n",
       "    }\n",
       "\n",
       "    .dataframe thead th {\n",
       "        text-align: right;\n",
       "    }\n",
       "</style>\n",
       "<table border=\"1\" class=\"dataframe\">\n",
       "  <thead>\n",
       "    <tr style=\"text-align: right;\">\n",
       "      <th></th>\n",
       "      <th>train_acc</th>\n",
       "      <th>dev_acc</th>\n",
       "    </tr>\n",
       "  </thead>\n",
       "  <tbody>\n",
       "    <tr>\n",
       "      <th>1</th>\n",
       "      <td>0.991533</td>\n",
       "      <td>0.8713</td>\n",
       "    </tr>\n",
       "  </tbody>\n",
       "</table>\n",
       "</div>"
      ],
      "text/plain": [
       "   train_acc  dev_acc\n",
       "1   0.991533   0.8713"
      ]
     },
     "execution_count": 32,
     "metadata": {},
     "output_type": "execute_result"
    }
   ],
   "source": [
    "\n",
    "test_model({'freq_treshhold':1,'tf_min_cnt':1,'max_df':1, 'bigrams':True})[0]"
   ]
  },
  {
   "cell_type": "code",
   "execution_count": 33,
   "metadata": {},
   "outputs": [
    {
     "name": "stdout",
     "output_type": "stream",
     "text": [
      "TRAINING DONE\n",
      "CLASSIFY DONE\n"
     ]
    },
    {
     "data": {
      "text/html": [
       "<div>\n",
       "<style scoped>\n",
       "    .dataframe tbody tr th:only-of-type {\n",
       "        vertical-align: middle;\n",
       "    }\n",
       "\n",
       "    .dataframe tbody tr th {\n",
       "        vertical-align: top;\n",
       "    }\n",
       "\n",
       "    .dataframe thead th {\n",
       "        text-align: right;\n",
       "    }\n",
       "</style>\n",
       "<table border=\"1\" class=\"dataframe\">\n",
       "  <thead>\n",
       "    <tr style=\"text-align: right;\">\n",
       "      <th></th>\n",
       "      <th>train_acc</th>\n",
       "      <th>dev_acc</th>\n",
       "    </tr>\n",
       "  </thead>\n",
       "  <tbody>\n",
       "    <tr>\n",
       "      <th>1</th>\n",
       "      <td>0.9974</td>\n",
       "      <td>0.8812</td>\n",
       "    </tr>\n",
       "  </tbody>\n",
       "</table>\n",
       "</div>"
      ],
      "text/plain": [
       "   train_acc  dev_acc\n",
       "1     0.9974   0.8812"
      ]
     },
     "execution_count": 33,
     "metadata": {},
     "output_type": "execute_result"
    }
   ],
   "source": [
    "\n",
    "test_model({'freq_treshhold':0.00005,'tf_min_cnt':1,'max_df':0.2, 'bigrams':True})[0]"
   ]
  },
  {
   "cell_type": "markdown",
   "metadata": {},
   "source": [
    "Получаем ухудшение по точности. Вроде бы очевидно, что цифры дают какую-то информацию(например, оценки) и убирать её смысла особого нет."
   ]
  },
  {
   "cell_type": "markdown",
   "metadata": {},
   "source": [
    "**2.** Убрать все знаки препинания."
   ]
  },
  {
   "cell_type": "code",
   "execution_count": 34,
   "metadata": {},
   "outputs": [],
   "source": [
    "def preprocessing(text):\n",
    "    text = text.lower()\n",
    "    remove_tags = re.compile(r'<.*?>')\n",
    "    text = re.sub(remove_tags, '', text)\n",
    "    text = re.sub(r'[^\\w\\s]', '', text) \n",
    "    text = ''.join(sym if (sym.isalnum() or sym in (\" \", \"'\")) else f\" {sym} \" for sym in text)\n",
    "    return text"
   ]
  },
  {
   "cell_type": "code",
   "execution_count": 35,
   "metadata": {},
   "outputs": [
    {
     "name": "stdout",
     "output_type": "stream",
     "text": [
      "TRAINING DONE\n",
      "CLASSIFY DONE\n"
     ]
    },
    {
     "data": {
      "text/html": [
       "<div>\n",
       "<style scoped>\n",
       "    .dataframe tbody tr th:only-of-type {\n",
       "        vertical-align: middle;\n",
       "    }\n",
       "\n",
       "    .dataframe tbody tr th {\n",
       "        vertical-align: top;\n",
       "    }\n",
       "\n",
       "    .dataframe thead th {\n",
       "        text-align: right;\n",
       "    }\n",
       "</style>\n",
       "<table border=\"1\" class=\"dataframe\">\n",
       "  <thead>\n",
       "    <tr style=\"text-align: right;\">\n",
       "      <th></th>\n",
       "      <th>train_acc</th>\n",
       "      <th>dev_acc</th>\n",
       "    </tr>\n",
       "  </thead>\n",
       "  <tbody>\n",
       "    <tr>\n",
       "      <th>1</th>\n",
       "      <td>0.996533</td>\n",
       "      <td>0.8737</td>\n",
       "    </tr>\n",
       "  </tbody>\n",
       "</table>\n",
       "</div>"
      ],
      "text/plain": [
       "   train_acc  dev_acc\n",
       "1   0.996533   0.8737"
      ]
     },
     "execution_count": 35,
     "metadata": {},
     "output_type": "execute_result"
    }
   ],
   "source": [
    "\n",
    "test_model({'freq_treshhold':1,'tf_min_cnt':1,'max_df':1, 'bigrams':True})[0]"
   ]
  },
  {
   "cell_type": "code",
   "execution_count": 36,
   "metadata": {},
   "outputs": [
    {
     "name": "stdout",
     "output_type": "stream",
     "text": [
      "TRAINING DONE\n",
      "CLASSIFY DONE\n"
     ]
    },
    {
     "data": {
      "text/html": [
       "<div>\n",
       "<style scoped>\n",
       "    .dataframe tbody tr th:only-of-type {\n",
       "        vertical-align: middle;\n",
       "    }\n",
       "\n",
       "    .dataframe tbody tr th {\n",
       "        vertical-align: top;\n",
       "    }\n",
       "\n",
       "    .dataframe thead th {\n",
       "        text-align: right;\n",
       "    }\n",
       "</style>\n",
       "<table border=\"1\" class=\"dataframe\">\n",
       "  <thead>\n",
       "    <tr style=\"text-align: right;\">\n",
       "      <th></th>\n",
       "      <th>train_acc</th>\n",
       "      <th>dev_acc</th>\n",
       "    </tr>\n",
       "  </thead>\n",
       "  <tbody>\n",
       "    <tr>\n",
       "      <th>1</th>\n",
       "      <td>0.999067</td>\n",
       "      <td>0.8803</td>\n",
       "    </tr>\n",
       "  </tbody>\n",
       "</table>\n",
       "</div>"
      ],
      "text/plain": [
       "   train_acc  dev_acc\n",
       "1   0.999067   0.8803"
      ]
     },
     "execution_count": 36,
     "metadata": {},
     "output_type": "execute_result"
    }
   ],
   "source": [
    "\n",
    "test_model({'freq_treshhold':0.00005,'tf_min_cnt':1,'max_df':0.2, 'bigrams':True})[0]"
   ]
  },
  {
   "cell_type": "markdown",
   "metadata": {},
   "source": [
    "Не понятно почему, но со знаками препинания точность больше при любых условиях.\\\n",
    "Но трейн предсказывает лучше)"
   ]
  },
  {
   "cell_type": "markdown",
   "metadata": {},
   "source": [
    "**3.** Попробуем применить стемминг.\\\n",
    "    Хорошо работает обрезание всех слов до 7 символов."
   ]
  },
  {
   "cell_type": "code",
   "execution_count": 39,
   "metadata": {},
   "outputs": [],
   "source": [
    "def preprocessing(text):\n",
    "    text = text.lower()\n",
    "    remove_tags = re.compile(r'<.*?>')\n",
    "    text = re.sub(remove_tags, '', text)\n",
    "    text = ''.join(sym if (sym.isalnum() or sym in (\" \", \"'\")) else f\" {sym} \" for sym in text)\n",
    "    return text\n",
    "\n",
    "\n",
    "def tokenize_dataset(dataset):\n",
    "    tokenizer = re.compile(r\"-?\\d*[.,]?\\d+|([?'\\w]+)|(\\S)\", re.MULTILINE | re.IGNORECASE)\n",
    "    tokenized_dataset = list(map(lambda doc: tokenizer.findall(doc), dataset))\n",
    "    stem_dataset = [[token[:7] for token in text] for text in tokenized_dataset]\n",
    "    return stem_dataset"
   ]
  },
  {
   "cell_type": "code",
   "execution_count": 40,
   "metadata": {},
   "outputs": [
    {
     "name": "stdout",
     "output_type": "stream",
     "text": [
      "TRAINING DONE\n",
      "CLASSIFY DONE\n"
     ]
    },
    {
     "data": {
      "text/html": [
       "<div>\n",
       "<style scoped>\n",
       "    .dataframe tbody tr th:only-of-type {\n",
       "        vertical-align: middle;\n",
       "    }\n",
       "\n",
       "    .dataframe tbody tr th {\n",
       "        vertical-align: top;\n",
       "    }\n",
       "\n",
       "    .dataframe thead th {\n",
       "        text-align: right;\n",
       "    }\n",
       "</style>\n",
       "<table border=\"1\" class=\"dataframe\">\n",
       "  <thead>\n",
       "    <tr style=\"text-align: right;\">\n",
       "      <th></th>\n",
       "      <th>train_acc</th>\n",
       "      <th>dev_acc</th>\n",
       "    </tr>\n",
       "  </thead>\n",
       "  <tbody>\n",
       "    <tr>\n",
       "      <th>1</th>\n",
       "      <td>0.992533</td>\n",
       "      <td>0.8743</td>\n",
       "    </tr>\n",
       "  </tbody>\n",
       "</table>\n",
       "</div>"
      ],
      "text/plain": [
       "   train_acc  dev_acc\n",
       "1   0.992533   0.8743"
      ]
     },
     "execution_count": 40,
     "metadata": {},
     "output_type": "execute_result"
    }
   ],
   "source": [
    "\n",
    "test_model({'freq_treshhold':1,'tf_min_cnt':1,'max_df':1, 'bigrams':True})[0]"
   ]
  },
  {
   "cell_type": "code",
   "execution_count": 41,
   "metadata": {},
   "outputs": [
    {
     "name": "stdout",
     "output_type": "stream",
     "text": [
      "TRAINING DONE\n",
      "CLASSIFY DONE\n"
     ]
    },
    {
     "data": {
      "text/html": [
       "<div>\n",
       "<style scoped>\n",
       "    .dataframe tbody tr th:only-of-type {\n",
       "        vertical-align: middle;\n",
       "    }\n",
       "\n",
       "    .dataframe tbody tr th {\n",
       "        vertical-align: top;\n",
       "    }\n",
       "\n",
       "    .dataframe thead th {\n",
       "        text-align: right;\n",
       "    }\n",
       "</style>\n",
       "<table border=\"1\" class=\"dataframe\">\n",
       "  <thead>\n",
       "    <tr style=\"text-align: right;\">\n",
       "      <th></th>\n",
       "      <th>train_acc</th>\n",
       "      <th>dev_acc</th>\n",
       "    </tr>\n",
       "  </thead>\n",
       "  <tbody>\n",
       "    <tr>\n",
       "      <th>1</th>\n",
       "      <td>0.9978</td>\n",
       "      <td>0.8817</td>\n",
       "    </tr>\n",
       "  </tbody>\n",
       "</table>\n",
       "</div>"
      ],
      "text/plain": [
       "   train_acc  dev_acc\n",
       "1     0.9978   0.8817"
      ]
     },
     "execution_count": 41,
     "metadata": {},
     "output_type": "execute_result"
    }
   ],
   "source": [
    "\n",
    "test_model({'freq_treshhold':0.00005,'tf_min_cnt':1,'max_df':0.2, 'bigrams':True})[0]"
   ]
  },
  {
   "cell_type": "markdown",
   "metadata": {},
   "source": [
    "Тут видно, что при текущих условиях не особо помогает, но в финальной модели работает лучше."
   ]
  },
  {
   "cell_type": "markdown",
   "metadata": {},
   "source": [
    "### с) Посмотрим как зависят друг от друга длина текста и его класс"
   ]
  },
  {
   "cell_type": "code",
   "execution_count": 43,
   "metadata": {},
   "outputs": [
    {
     "data": {
      "text/plain": [
       "Text(0.5, 1.0, 'Negative texts')"
      ]
     },
     "execution_count": 43,
     "metadata": {},
     "output_type": "execute_result"
    },
    {
     "data": {
      "image/png": "[encoded data removed]",
      "text/plain": [
       "<Figure size 1008x360 with 2 Axes>"
      ]
     },
     "metadata": {
      "needs_background": "light"
     },
     "output_type": "display_data"
    }
   ],
   "source": [
    "train_texts_path = \"./filimdb_evaluation/FILIMDB/train.texts\"\n",
    "train_labels_path = \"./filimdb_evaluation/FILIMDB/train.labels\"\n",
    "with open(train_texts_path, 'r', encoding='utf-8') as inp:\n",
    "    train_data = list(map(str.strip, inp.readlines()))\n",
    "with open(train_labels_path, 'r', encoding='utf-8') as inp:\n",
    "    train_labels = list(map(str.strip, inp.readlines()))\n",
    "    \n",
    "pos_len = [len(train_data[i]) for i, lab in enumerate(train_labels) if lab == 'pos']\n",
    "neg_len = [len(train_data[i]) for i, lab in enumerate(train_labels) if lab == 'neg']\n",
    "\n",
    "fig = plt.figure(figsize = (14, 5))\n",
    "ax1 = plt.subplot(211)\n",
    "f = ax1.hist(pos_len, bins=100)\n",
    "ax1.set_title(\"Positive texts\")\n",
    "ax2 = plt.subplot(212, sharex=ax1)\n",
    "f = ax2.hist(neg_len, bins=100)\n",
    "ax2.set_title(\"Negative texts\")"
   ]
  },
  {
   "cell_type": "markdown",
   "metadata": {},
   "source": [
    "Можно увидеть, что длины текстов распредлены почти одинаково для двух классов, значит длина текста не будет влиять на определение его класса."
   ]
  },
  {
   "cell_type": "markdown",
   "metadata": {},
   "source": [
    "### d) Что будет, если незнакомые слова из тестовой выборки помечать специальным токеном?"
   ]
  },
  {
   "cell_type": "markdown",
   "metadata": {},
   "source": [
    "Будет большое понижение по точности, потому что это могут быть опечатки и другие слова не несущие значения для классификации.\\\n",
    "И при этом, все они будут идти под одним токеном, т.е будут вносить существенный вклад для мультиномиальной модели.\\\n",
    "Тут проверки не будет, но локально я проверял."
   ]
  },
  {
   "cell_type": "markdown",
   "metadata": {},
   "source": [
    "### e) Работа с неразмеченными текстами?"
   ]
  },
  {
   "cell_type": "markdown",
   "metadata": {},
   "source": [
    "Я пытался реализовать ЕМ-алгоритм, при котором мы тренируем классификатор на train выборке.\\\n",
    "Потом этим классификатором размечаем unlabeled_test выборку и затем тренируемся на размеченной выборке из train и unlabeled_test.\\\n",
    "Все эти разметки и тренировки должны повторяться, пока значения вероятностей не сойдутся.\n",
    "\n",
    "Но на практике...\n",
    "1. При обучении на размеченных train и unlabeled_test точность снижалась значительно (до 78-79 процентов).\n",
    "2. Если повторять шаги разметки и тренировки, то точность опять же снижалась.\n",
    "\n",
    "С чем это связано я так и не смог понять, при этом на совсем маленьких данных (5-6 коротких текстов) алгоритм работал. Возможно дело в недостаточной предобработке(но она была неплохой) или сильно большей длине текстов в train и dev выборках."
   ]
  },
  {
   "cell_type": "markdown",
   "metadata": {},
   "source": [
    "### f) Что-нибудь ещё?\n"
   ]
  },
  {
   "cell_type": "markdown",
   "metadata": {},
   "source": [
    "Тут появляются триграммы, они позволили немного добавить точности."
   ]
  },
  {
   "cell_type": "code",
   "execution_count": 65,
   "metadata": {},
   "outputs": [],
   "source": [
    "def train(dataset, labels, max_df=0.1, min_df=1, freq_treshhold=1):\n",
    "    word_to_ind = {}\n",
    "    free_ind = 0\n",
    "\n",
    "    pos_words = defaultdict(int)\n",
    "    word_in_pos_text = defaultdict(int)\n",
    "    neg_words = defaultdict(int)\n",
    "    word_in_neg_text = defaultdict(int)\n",
    "    df = defaultdict(int)\n",
    "    df_cnt = defaultdict(int)\n",
    "    w_freq = defaultdict(int)\n",
    "    cnt_pos = 0\n",
    "    cnt_neg = 0\n",
    "    N_words = -1\n",
    "    prob_w_cls = []\n",
    "    prob_cls = []\n",
    "    bigrams = True\n",
    "    trigrams = True\n",
    "\n",
    "    proc_dataset = list(map(preprocessing, dataset))\n",
    "    token_dataset = tokenize_dataset(proc_dataset)\n",
    "    # print(token_dataset[0])\n",
    "    \n",
    "    min_group = min(labels.count('pos'), labels.count('neg'))\n",
    "    train_pos = [token_dataset[i] for i, lab in enumerate(labels) if lab == 'pos']\n",
    "    # train_pos = train_pos[:min_group]\n",
    "\n",
    "    train_neg = [token_dataset[i] for i, lab in enumerate(labels) if lab == 'neg']\n",
    "    # train_neg = train_neg[:min_group]\n",
    "\n",
    "    # print(f\"train_pos_size: {len(train_pos)}, train_neg_size: {len(train_neg)}\")\n",
    "    # print(\"all_tokens: \", sum(len(text) for text in token_dataset) + sum(len(list(zip(text[:-1], text[1:]))) for text in token_dataset))\n",
    "    # print()\n",
    "\n",
    "    for text in train_pos:\n",
    "        been = set()\n",
    "        for word in text:\n",
    "            if word not in word_to_ind:\n",
    "                word_to_ind[word] = free_ind\n",
    "                free_ind += 1\n",
    "            if word not in been:\n",
    "                ind = word_to_ind[word]\n",
    "                word_in_pos_text[ind] += 1\n",
    "                been.add(word)\n",
    "            pos_words[word_to_ind[word]] += 1\n",
    "            cnt_pos += 1\n",
    "\n",
    "    if bigrams:\n",
    "        for text in train_pos:\n",
    "            been = set()\n",
    "            bigr = [b for b in zip(text[:-1], text[1:])]\n",
    "            for word in bigr:\n",
    "                if word not in word_to_ind:\n",
    "                    word_to_ind[word] = free_ind\n",
    "                    free_ind += 1\n",
    "                if word not in been:\n",
    "                    ind = word_to_ind[word]\n",
    "                    word_in_pos_text[ind] += 1\n",
    "                    been.add(word)\n",
    "                pos_words[word_to_ind[word]] += 1\n",
    "                cnt_pos += 1\n",
    "\n",
    "    if trigrams:\n",
    "        for text in train_pos:\n",
    "            been = set()\n",
    "            trigr = [b for b in zip(text[:-2], text[1:-1], text[2:])]\n",
    "            for word in trigr:\n",
    "                if word not in word_to_ind:\n",
    "                    word_to_ind[word] = free_ind\n",
    "                    free_ind += 1\n",
    "                if word not in been:\n",
    "                    ind = word_to_ind[word]\n",
    "                    word_in_pos_text[ind] += 1\n",
    "                    been.add(word)\n",
    "                pos_words[word_to_ind[word]] += 1\n",
    "                cnt_pos += 1\n",
    "\n",
    "    for text in train_neg:\n",
    "        been = set()\n",
    "        for word in text:\n",
    "            if word not in word_to_ind:\n",
    "                word_to_ind[word] = free_ind\n",
    "                free_ind += 1\n",
    "            if word not in been:\n",
    "                ind = word_to_ind[word]\n",
    "                word_in_neg_text[ind] += 1\n",
    "                been.add(word)    \n",
    "            neg_words[word_to_ind[word]] += 1\n",
    "            cnt_neg += 1\n",
    "\n",
    "    if bigrams:\n",
    "        for text in train_neg:\n",
    "            been = set()\n",
    "            bigr = [b for b in zip(text[:-1], text[1:])]\n",
    "            for word in bigr:\n",
    "                if word not in word_to_ind:\n",
    "                    word_to_ind[word] = free_ind\n",
    "                    free_ind += 1\n",
    "                if word not in been:\n",
    "                    ind = word_to_ind[word]\n",
    "                    word_in_neg_text[ind] += 1\n",
    "                    been.add(word)\n",
    "                neg_words[word_to_ind[word]] += 1\n",
    "                cnt_neg += 1\n",
    "\n",
    "    if trigrams:\n",
    "        for text in train_neg:\n",
    "            been = set()\n",
    "            trigr = [b for b in zip(text[:-2], text[1:-1], text[2:])]\n",
    "            for word in trigr:\n",
    "                if word not in word_to_ind:\n",
    "                    word_to_ind[word] = free_ind\n",
    "                    free_ind += 1\n",
    "                if word not in been:\n",
    "                    ind = word_to_ind[word]\n",
    "                    word_in_neg_text[ind] += 1\n",
    "                    been.add(word)\n",
    "                neg_words[word_to_ind[word]] += 1\n",
    "                cnt_neg += 1\n",
    "\n",
    "    def cnt_prob_word_cls(ind, cls, alpha=1):\n",
    "        if cls == 'neg':\n",
    "            cnt = neg_words[ind] if ind != -1 else 0\n",
    "            return (alpha + cnt) / (cnt_neg + alpha*len(word_to_ind))\n",
    "        else:\n",
    "            cnt = pos_words[ind] if ind != -1 else 0\n",
    "            return (alpha + cnt) / (cnt_pos + alpha*len(word_to_ind))\n",
    "\n",
    "    def cnt_prob_cls(cls):\n",
    "    # 0 - neg, 1 - pos\n",
    "        if cls == 0:\n",
    "            return len(train_neg) / (len(train_neg) + len(train_pos))\n",
    "        else:\n",
    "            return len(train_pos) / (len(train_neg) + len(train_pos))\n",
    "\n",
    "\n",
    "    # Train with unlabeled data\n",
    "    #--------------------------------------\n",
    "\n",
    "    #--------------------------------------\n",
    "\n",
    "    for w, ind in word_to_ind.items():\n",
    "        df[ind] = (word_in_neg_text[ind] + word_in_pos_text[ind]) / len(dataset)\n",
    "        df_cnt[ind] = (word_in_neg_text[ind] + word_in_pos_text[ind])\n",
    "    \n",
    "    for w, ind in word_to_ind.items():\n",
    "        w_freq[ind] = (pos_words[ind] + neg_words[ind]) / (cnt_pos + cnt_neg)\n",
    "\n",
    "    # Deleting words with freq > freq_treshhold.\n",
    "    for w, ind in list(word_to_ind.items()):\n",
    "        if df[ind] > max_df or w_freq[ind] > freq_treshhold or df_cnt[ind] < min_df:\n",
    "            # print(\"delete : \", w, ind)\n",
    "            # print(\"Probs: \", cnt_prob_word_cls(ind, 'neg'), cnt_prob_word_cls(ind, 'pos'))\n",
    "            cnt_pos -= pos_words[ind]\n",
    "            cnt_neg -= neg_words[ind]\n",
    "            pos_words.pop(w, -1)\n",
    "            neg_words.pop(w, -1)\n",
    "            word_in_pos_text.pop(ind, -1)\n",
    "            word_in_neg_text.pop(ind, -1)\n",
    "            word_to_ind.pop(w, -1)\n",
    "    \n",
    "    new_word_to_ind = {}\n",
    "    new_word_in_neg_text = {}\n",
    "    new_word_in_pos_text = {}\n",
    "    new_pos_words = {}\n",
    "    new_neg_words = {}\n",
    "    new_df_cnt = {}\n",
    "    new_w_freq = {}\n",
    "    for ind, (w, old_ind) in enumerate(word_to_ind.items()):\n",
    "        try:\n",
    "            new_word_to_ind[w] = ind\n",
    "            new_word_in_neg_text[ind] = word_in_neg_text[old_ind]\n",
    "            new_word_in_pos_text[ind] = word_in_pos_text[old_ind]\n",
    "            new_pos_words[ind] = pos_words[old_ind]\n",
    "            new_neg_words[ind] = neg_words[old_ind]\n",
    "            new_df_cnt[ind] = df_cnt[old_ind]\n",
    "            new_w_freq[ind] = df[old_ind]\n",
    "        except Exception:\n",
    "            print(ind, w, old_ind)\n",
    "    \n",
    "    word_to_ind = new_word_to_ind\n",
    "    word_in_pos_text = new_word_in_pos_text\n",
    "    word_in_neg_text = new_word_in_neg_text\n",
    "    pos_words = new_pos_words\n",
    "    neg_words = new_neg_words\n",
    "    df_cnt = new_df_cnt\n",
    "    w_freq = new_w_freq\n",
    "\n",
    "    N_words = len(word_to_ind)\n",
    "    print(N_words)\n",
    "    prob_w_cls = [[cnt_prob_word_cls(i, cls) for i in range(N_words)] for cls in ('neg', 'pos')]\n",
    "    prob_cls = [cnt_prob_cls(cls) for cls in ('neg', 'pos')]\n",
    "\n",
    "    # print(prob_w_cls)   \n",
    "    return word_to_ind, df_cnt, prob_w_cls, prob_cls, bigrams, trigrams"
   ]
  },
  {
   "cell_type": "code",
   "execution_count": 66,
   "metadata": {},
   "outputs": [],
   "source": [
    "def vectorize(tokenized_texts, word_to_ind, df_cnt, mode, bigrams=True, trigrams=True):\n",
    "    res = [defaultdict(int) for _ in range(len(tokenized_texts))]\n",
    "    for ind, text in enumerate(tokenized_texts):\n",
    "        for token in text:\n",
    "            if token in word_to_ind:\n",
    "                res[ind][word_to_ind[token]] += 1\n",
    "    if bigrams:\n",
    "        for ind, text in enumerate(tokenized_texts):\n",
    "            bigr = [b for b in zip(text[:-1], text[1:])]\n",
    "            for token in bigr:\n",
    "                if token in word_to_ind:\n",
    "                    res[ind][word_to_ind[token]] += 1\n",
    "    if trigrams:\n",
    "        for ind, text in enumerate(tokenized_texts):\n",
    "            trigr = [b for b in zip(text[:-2], text[1:-1], text[2:])]\n",
    "            for token in trigr:\n",
    "                if token in word_to_ind:\n",
    "                    res[ind][word_to_ind[token]] += 1\n",
    "    if mode == 'bern':\n",
    "        for text in res:\n",
    "            for ind, cnt in text.items():\n",
    "                if cnt > 0:\n",
    "                    text[ind] = 1\n",
    "    if mode == 'tfidf':\n",
    "        for text in res:\n",
    "            for ind, cnt in text.items():\n",
    "                text[ind] /= len(text)\n",
    "                idf = log((1 + len(tokenized_texts))/(1 + df_cnt[ind])  + 1)\n",
    "                text[ind] *= idf\n",
    "    return res"
   ]
  },
  {
   "cell_type": "code",
   "execution_count": 73,
   "metadata": {},
   "outputs": [],
   "source": [
    "def classify(dataset, params):\n",
    "    #preprocessing\n",
    "    word_to_ind, df_cnt, prob_w_cls, prob_cls, bigr, trigr = params\n",
    "    dataset = list(map(preprocessing, dataset))\n",
    "    dataset = tokenize_dataset(dataset)\n",
    "    dataset = vectorize(dataset, word_to_ind, df_cnt, mode='mult', bigrams=bigr, trigrams=trigr)\n",
    "    probs = []\n",
    "    size = len(dataset)\n",
    "    for i, text in enumerate(dataset):\n",
    "        probs.append(classify_mult(text, prob_w_cls, prob_cls))\n",
    "    res = ['pos' if pr else 'neg' for pr in probs]\n",
    "    return res"
   ]
  },
  {
   "cell_type": "code",
   "execution_count": 74,
   "metadata": {},
   "outputs": [
    {
     "name": "stdout",
     "output_type": "stream",
     "text": [
      "3399431\n",
      "TRAINING DONE\n",
      "CLASSIFY DONE\n"
     ]
    },
    {
     "data": {
      "text/html": [
       "<div>\n",
       "<style scoped>\n",
       "    .dataframe tbody tr th:only-of-type {\n",
       "        vertical-align: middle;\n",
       "    }\n",
       "\n",
       "    .dataframe tbody tr th {\n",
       "        vertical-align: top;\n",
       "    }\n",
       "\n",
       "    .dataframe thead th {\n",
       "        text-align: right;\n",
       "    }\n",
       "</style>\n",
       "<table border=\"1\" class=\"dataframe\">\n",
       "  <thead>\n",
       "    <tr style=\"text-align: right;\">\n",
       "      <th></th>\n",
       "      <th>train_acc</th>\n",
       "      <th>dev_acc</th>\n",
       "    </tr>\n",
       "  </thead>\n",
       "  <tbody>\n",
       "    <tr>\n",
       "      <th>1</th>\n",
       "      <td>0.999267</td>\n",
       "      <td>0.8859</td>\n",
       "    </tr>\n",
       "  </tbody>\n",
       "</table>\n",
       "</div>"
      ],
      "text/plain": [
       "   train_acc  dev_acc\n",
       "1   0.999267   0.8859"
      ]
     },
     "execution_count": 74,
     "metadata": {},
     "output_type": "execute_result"
    }
   ],
   "source": [
    "test_model({'freq_treshhold':1,'max_df':1})[0]"
   ]
  },
  {
   "cell_type": "markdown",
   "metadata": {},
   "source": [
    "И тут появляется он, **улучшенный токенизатор**."
   ]
  },
  {
   "cell_type": "code",
   "execution_count": 76,
   "metadata": {},
   "outputs": [],
   "source": [
    "def tokenize_dataset(dataset):\n",
    "    \"\"\"\n",
    "        arg: list of texts\n",
    "        return: list of tokenized texts\n",
    "    \"\"\"\n",
    "    stop_words = ['i', 'me', 'my', 'myself', 'we', 'our', 'ours', 'ourselves', 'you', \"you're\", \"you've\", \"you'll\", \"you'd\", 'your', 'yours', 'yourself', 'yourselves', 'he', 'him', 'his', 'himself', 'she', \"she's\", 'her', 'hers', 'herself', 'it', \"it's\", 'its', \\\n",
    "    'itself', 'they', 'them', 'their', 'theirs', 'themselves', 'what', 'which', 'who', 'whom', 'this', 'that', \"that'll\", 'these', 'those', 'am', 'is', 'are', 'was', 'were', 'be', 'been', 'being', 'have', 'has', 'had', 'having', 'do', 'does', 'did', 'doing', 'a', 'an', 'the', 'and', 'but', 'if', 'or', 'because', 'as', 'until', 'while', 'of', 'at', 'by', 'for', 'with',\n",
    "     'about', 'against', 'between', 'into', 'through', 'during', 'before', 'after', 'above', 'below', 'to', 'from', 'up', 'down', 'in', 'out', 'on', 'off', 'over', 'under', 'again', 'further', 'then', 'once', 'here', 'there', 'when', 'where', 'why', 'how', 'all', 'any', 'both', 'each', 'few', 'more', 'most', 'other', 'some', 'such', 'no', 'nor', 'not', 'only', 'own', 'same', 'so', 'than', 'too', 'very', 's', 't', 'can', 'will', 'just', 'don', \"don't\", 'should', \"should've\", 'now', 'd', 'll', 'm', 'o', 're', 've', 'y', 'ain', 'aren', \"aren't\", 'couldn', \"couldn't\", 'didn', \"didn't\", 'doesn', \"doesn't\", 'hadn', \"hadn't\", 'hasn', \"hasn't\", 'haven', \"haven't\", 'isn', \"isn't\", 'ma', 'mightn', \"mightn't\", 'mustn', \"mustn't\", 'needn', \"needn't\", 'shan', \"shan't\", 'shouldn', \"shouldn't\", 'wasn', \"wasn't\", 'weren', \"weren't\", 'won', \"won't\", 'wouldn', \"wouldn't\"]\n",
    "    tokenizer = re.compile(r\"-?\\d*[.,]?\\d+|([?'\\w]+)|(\\S)\", re.MULTILINE | re.IGNORECASE)\n",
    "    tokenized_dataset = list(map(lambda doc: tokenizer.findall(doc), dataset))\n",
    "    stem_dataset = [[token[:7] for token in text if token not in stop_words] for text in tokenized_dataset]\n",
    "    return stem_dataset"
   ]
  },
  {
   "cell_type": "markdown",
   "metadata": {},
   "source": [
    "Тут добавлено удаление некоторых стоп-слов английского языка (они не несут никакой значимости для классификации).\\\n",
    "Но это не главное.\\\n",
    "А главное тут то, что ошибка в регулярном выражении превратила все токены вида ('token',) в токены вида ('token', ' ').\\\n",
    "и как ни странно это позволило мультиномиальной преодолеть 89 процентов точности."
   ]
  },
  {
   "cell_type": "code",
   "execution_count": 82,
   "metadata": {},
   "outputs": [
    {
     "name": "stdout",
     "output_type": "stream",
     "text": [
      "3399431\n",
      "TRAINING DONE\n",
      "CLASSIFY DONE\n"
     ]
    },
    {
     "data": {
      "text/html": [
       "<div>\n",
       "<style scoped>\n",
       "    .dataframe tbody tr th:only-of-type {\n",
       "        vertical-align: middle;\n",
       "    }\n",
       "\n",
       "    .dataframe tbody tr th {\n",
       "        vertical-align: top;\n",
       "    }\n",
       "\n",
       "    .dataframe thead th {\n",
       "        text-align: right;\n",
       "    }\n",
       "</style>\n",
       "<table border=\"1\" class=\"dataframe\">\n",
       "  <thead>\n",
       "    <tr style=\"text-align: right;\">\n",
       "      <th></th>\n",
       "      <th>train_acc</th>\n",
       "      <th>dev_acc</th>\n",
       "    </tr>\n",
       "  </thead>\n",
       "  <tbody>\n",
       "    <tr>\n",
       "      <th>1</th>\n",
       "      <td>0.999267</td>\n",
       "      <td>0.8859</td>\n",
       "    </tr>\n",
       "  </tbody>\n",
       "</table>\n",
       "</div>"
      ],
      "text/plain": [
       "   train_acc  dev_acc\n",
       "1   0.999267   0.8859"
      ]
     },
     "execution_count": 82,
     "metadata": {},
     "output_type": "execute_result"
    }
   ],
   "source": [
    "test_model({'freq_treshhold':1,'min_df':1,'max_df':1})[0]"
   ]
  },
  {
   "cell_type": "code",
   "execution_count": 83,
   "metadata": {},
   "outputs": [
    {
     "name": "stdout",
     "output_type": "stream",
     "text": [
      "3399087\n",
      "TRAINING DONE\n",
      "CLASSIFY DONE\n"
     ]
    },
    {
     "data": {
      "text/html": [
       "<div>\n",
       "<style scoped>\n",
       "    .dataframe tbody tr th:only-of-type {\n",
       "        vertical-align: middle;\n",
       "    }\n",
       "\n",
       "    .dataframe tbody tr th {\n",
       "        vertical-align: top;\n",
       "    }\n",
       "\n",
       "    .dataframe thead th {\n",
       "        text-align: right;\n",
       "    }\n",
       "</style>\n",
       "<table border=\"1\" class=\"dataframe\">\n",
       "  <thead>\n",
       "    <tr style=\"text-align: right;\">\n",
       "      <th></th>\n",
       "      <th>train_acc</th>\n",
       "      <th>dev_acc</th>\n",
       "    </tr>\n",
       "  </thead>\n",
       "  <tbody>\n",
       "    <tr>\n",
       "      <th>1</th>\n",
       "      <td>0.9996</td>\n",
       "      <td>0.8919</td>\n",
       "    </tr>\n",
       "  </tbody>\n",
       "</table>\n",
       "</div>"
      ],
      "text/plain": [
       "   train_acc  dev_acc\n",
       "1     0.9996   0.8919"
      ]
     },
     "execution_count": 83,
     "metadata": {},
     "output_type": "execute_result"
    }
   ],
   "source": [
    "test_model({'freq_treshhold':1,'min_df':1,'max_df':0.1})[0]"
   ]
  },
  {
   "cell_type": "markdown",
   "metadata": {},
   "source": [
    "И в финальной версии оказалось, что tf-idf векторизация даёт ещё немного точности, хотя до этого она не помогала."
   ]
  },
  {
   "cell_type": "code",
   "execution_count": 86,
   "metadata": {},
   "outputs": [],
   "source": [
    "def classify(dataset, params):\n",
    "    #preprocessing\n",
    "    word_to_ind, df_cnt, prob_w_cls, prob_cls, bigr, trigr = params\n",
    "    dataset = list(map(preprocessing, dataset))\n",
    "    dataset = tokenize_dataset(dataset)\n",
    "    dataset = vectorize(dataset, word_to_ind, df_cnt, mode='tfidf', bigrams=bigr, trigrams=trigr)\n",
    "    probs = []\n",
    "    size = len(dataset)\n",
    "    for i, text in enumerate(dataset):\n",
    "        probs.append(classify_mult(text, prob_w_cls, prob_cls))\n",
    "    res = ['pos' if pr else 'neg' for pr in probs]\n",
    "    return res"
   ]
  },
  {
   "cell_type": "code",
   "execution_count": 87,
   "metadata": {},
   "outputs": [
    {
     "name": "stdout",
     "output_type": "stream",
     "text": [
      "3399087\n",
      "TRAINING DONE\n",
      "CLASSIFY DONE\n"
     ]
    },
    {
     "data": {
      "text/html": [
       "<div>\n",
       "<style scoped>\n",
       "    .dataframe tbody tr th:only-of-type {\n",
       "        vertical-align: middle;\n",
       "    }\n",
       "\n",
       "    .dataframe tbody tr th {\n",
       "        vertical-align: top;\n",
       "    }\n",
       "\n",
       "    .dataframe thead th {\n",
       "        text-align: right;\n",
       "    }\n",
       "</style>\n",
       "<table border=\"1\" class=\"dataframe\">\n",
       "  <thead>\n",
       "    <tr style=\"text-align: right;\">\n",
       "      <th></th>\n",
       "      <th>train_acc</th>\n",
       "      <th>dev_acc</th>\n",
       "    </tr>\n",
       "  </thead>\n",
       "  <tbody>\n",
       "    <tr>\n",
       "      <th>1</th>\n",
       "      <td>1.0</td>\n",
       "      <td>0.8945</td>\n",
       "    </tr>\n",
       "  </tbody>\n",
       "</table>\n",
       "</div>"
      ],
      "text/plain": [
       "   train_acc  dev_acc\n",
       "1        1.0   0.8945"
      ]
     },
     "execution_count": 87,
     "metadata": {},
     "output_type": "execute_result"
    }
   ],
   "source": [
    "test_model({'freq_treshhold':1,'min_df':1,'max_df':0.1})[0]"
   ]
  },
  {
   "cell_type": "markdown",
   "metadata": {},
   "source": [
    "На этой точности я решил остановиться, т.к всё, что смог придумать или прочитать, уже попробовал."
   ]
  },
  {
   "cell_type": "code",
   "execution_count": null,
   "metadata": {},
   "outputs": [],
   "source": []
  }
 ],
 "metadata": {
  "kernelspec": {
   "display_name": "Python 3",
   "language": "python",
   "name": "python3"
  },
  "language_info": {
   "codemirror_mode": {
    "name": "ipython",
    "version": 3
   },
   "file_extension": ".py",
   "mimetype": "text/x-python",
   "name": "python",
   "nbconvert_exporter": "python",
   "pygments_lexer": "ipython3",
   "version": "3.8.3"
  }
 },
 "nbformat": 4,
 "nbformat_minor": 4
}
