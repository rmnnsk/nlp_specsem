{
 "cells": [
  {
   "cell_type": "markdown",
   "metadata": {},
   "source": [
    "### 1\n",
    "Соберём ниже итоговый код классификатора с основной части.<br>\n",
    "Допишем туда новый оптимизатор Adam, и посмотрим, как будет обучаться наша модель."
   ]
  },
  {
   "cell_type": "code",
   "execution_count": 1,
   "metadata": {},
   "outputs": [],
   "source": [
    "import re\n",
    "from collections import defaultdict, Counter\n",
    "import sys\n",
    "import numpy as np\n",
    "from math import log\n",
    "from scipy.sparse import csr_matrix, dok_matrix\n",
    "import string\n",
    "from itertools import dropwhile\n",
    "import time\n",
    "import matplotlib.pyplot as plt"
   ]
  },
  {
   "cell_type": "code",
   "execution_count": 2,
   "metadata": {},
   "outputs": [],
   "source": [
    "def preprocessing(text):\n",
    "    text = text.lower()\n",
    "    text = re.sub(r'\\[.*?\\]', '', text)\n",
    "    text = re.sub(r\"\\\\W\", \" \", text)\n",
    "    text = re.sub(r'https?://\\S+|www\\.\\S+', '', text)\n",
    "    text = re.sub(r'<.*?>+', '', text)\n",
    "    text = re.sub('\\n', '', text)\n",
    "    text = re.sub(r'\\w*\\d\\w*', '', text)\n",
    "    text = ''.join(sym if (sym.isalnum() or sym in (\" \", \"'\")) else f\" {sym} \" for sym in text)\n",
    "    return text"
   ]
  },
  {
   "cell_type": "code",
   "execution_count": 3,
   "metadata": {},
   "outputs": [],
   "source": [
    "def tokenize_dataset(dataset, stem=0):\n",
    "    \"\"\"\n",
    "        arg: list of texts\n",
    "        return: list of tokenized texts\n",
    "    \"\"\"\n",
    "    stop_words = ['film', 'i', 'me', 'my', 'myself', 'we', 'our', 'ours', 'ourselves', 'you', \"you're\", \"you've\", \"you'll\",\n",
    "                  \"you'd\", 'your', 'yours', 'yourself', 'yourselves', 'he', 'him', 'his', 'himself', 'she', \"she's\",\n",
    "                  'her', 'hers', 'herself', 'it', \"it's\", 'its', 'itself', 'they', 'them', 'their', 'theirs',\n",
    "                  'themselves', 'what', 'which', 'who', 'whom', 'this', \n",
    "                  'that', \"that'll\", 'these', 'those', 'am', 'is', 'are', 'was', 'were', 'be', 'been', 'being', 'have',\n",
    "                  'has', 'had', 'having', 'do', 'does', 'did', 'doing', 'a', 'an', 'the', 'and', 'but', 'if', 'or',\n",
    "                  'because', 'as', 'until', 'while', 'of', 'at', 'by', 'for', 'with',\n",
    "                  'about', 'against', 'between', 'into', 'through', 'during', 'before', 'after', 'above', 'below', 'to',\n",
    "                  'from', 'up', 'down', 'in', 'out', 'on', 'off', 'over', 'under', 'again', 'further', 'then', 'once',\n",
    "                  'here', 'there', 'when', 'where', 'why', 'how', 'all', 'any', 'both', 'each', 'few', 'more', 'most',\n",
    "                  'other', 'some', 'such', 'no', 'nor', 'not', 'only', 'own', 'same', 'so', 'than', 'too', 'very', 's',\n",
    "                  't', 'can', 'will', 'just', 'don', \"don't\", 'should', \"should've\", 'now', 'd', 'll', 'm', 'o', 're',\n",
    "                  've', 'y', 'ain', 'aren', \"aren't\", 'could', 'couldn', \"couldn't\", 'didn', \"didn't\", 'doesn',\n",
    "                  \"doesn't\", 'hadn', \"hadn't\", 'hasn', \"hasn't\", 'haven', \"haven't\", 'isn', \"isn't\", 'ma', 'mightn',\n",
    "                  \"mightn't\", 'mustn', \"mustn't\", 'needn', \"needn't\", 'shan', \"shan't\", 'shouldn', \"shouldn't\", 'wasn',\n",
    "                  \"wasn't\", 'weren', \"weren't\", 'won', \"won't\", 'wouldn', \"wouldn't\"]  + [c for c in string.punctuation]\n",
    "    tokenizer = re.compile(r\"-?\\d*[.,]?\\d+|[?'\\w]+|\\S\", re.MULTILINE | re.IGNORECASE)\n",
    "    tokenized_dataset = list(map(lambda doc: tokenizer.findall(doc), dataset))\n",
    "    if stem == 0:\n",
    "        return [[token for token in text if token not in stop_words] for text in tokenized_dataset]\n",
    "    stem_dataset = [[token[:stem] for token in text if token not in stop_words] for text in tokenized_dataset]\n",
    "    return stem_dataset"
   ]
  },
  {
   "cell_type": "code",
   "execution_count": 4,
   "metadata": {},
   "outputs": [],
   "source": [
    "def gen_w2ind(tokenized_texts, min_tf=1, max_df=1, min_df=1, bigrams=False, trigrams=False):\n",
    "    start = time.perf_counter()\n",
    "    print(\"w2ind started\")\n",
    "    df_cnt = defaultdict(int)\n",
    "    all_cnt = defaultdict(int)\n",
    "    free_ind = 0\n",
    "    for text in tokenized_texts:\n",
    "        been = set()\n",
    "        tokens = text[:]\n",
    "        if bigrams:\n",
    "            tokens += list(zip(text[:-1], text[1:]))\n",
    "        if trigrams:\n",
    "            tokens += list(zip(text[:-2], text[1:-1], text[2:]))\n",
    "        for token in tokens:\n",
    "            all_cnt[token] += 1\n",
    "            if token not in been:\n",
    "                df_cnt[token] += 1\n",
    "                been.add(token)\n",
    "\n",
    "    for w, cnt in list(all_cnt.items()):\n",
    "        if cnt < min_tf:\n",
    "            del all_cnt[w]\n",
    "            del df_cnt[w]\n",
    "\n",
    "    corpus_size = len(tokenized_texts)\n",
    "    for w, cnt in list(df_cnt.items()):\n",
    "        if cnt < min_df or cnt / corpus_size > max_df:\n",
    "            del all_cnt[w]\n",
    "            del df_cnt[w]\n",
    "\n",
    "    w2ind = {w: ind for ind, w in enumerate(all_cnt.keys())}\n",
    "    w_sorted = sorted(list(w2ind.items()), key=lambda x: x[1])\n",
    "    idf = np.array([0] + [np.log((1 + corpus_size) / (1 + df_cnt[w])) + 1 for w, _ in w_sorted])\n",
    "\n",
    "    finish = time.perf_counter()\n",
    "    print(f\"DICTS GENERATED IN {finish - start} seconds.\")\n",
    "    return w2ind,  idf"
   ]
  },
  {
   "cell_type": "code",
   "execution_count": 5,
   "metadata": {},
   "outputs": [],
   "source": [
    "def vectorize(tokenized_texts, w2ind, idfs, mode='tf-idf', bigrams=False, trigrams=False, intercept=True):\n",
    "    start = time.perf_counter()\n",
    "    print(\"vectorize started\")\n",
    "    X = dok_matrix((len(tokenized_texts), len(w2ind) + intercept), dtype=np.float32)\n",
    "    for ind, text in enumerate(tokenized_texts):\n",
    "        tokens = text[:]\n",
    "        if bigrams:\n",
    "            tokens += list(zip(text[:-1], text[1:]))\n",
    "        if trigrams:\n",
    "            tokens += list(zip(text[:-2], text[1:-1], text[2:]))\n",
    "        for token in tokens:\n",
    "            if token in w2ind:\n",
    "                token_ind = w2ind[token]\n",
    "                if intercept:\n",
    "                    token_ind += 1\n",
    "                X[ind, token_ind] += 1\n",
    "    \n",
    "    if mode == 'bin':\n",
    "        X = (X > 0).astype('float32')\n",
    "    elif mode == 'tf':\n",
    "        X = X.tocsr()\n",
    "        X = X.multiply(1 / X.sum(1))\n",
    "    elif mode == 'idf':\n",
    "        X = (X > 0).astype('float32').multiply(idfs)\n",
    "    elif mode == 'tf-idf':\n",
    "        X = X.tocsr()\n",
    "        X = X.multiply(1 / X.sum(1))\n",
    "        X = X.multiply(idfs)\n",
    "\n",
    "\n",
    "    if intercept:\n",
    "        X = X.tolil()\n",
    "        X[:, 0] = 1\n",
    "\n",
    "    finish = time.perf_counter()\n",
    "    print(f\"VECTORIZED IN {finish - start} seconds.\")\n",
    "    return X.tocsr()"
   ]
  },
  {
   "cell_type": "code",
   "execution_count": 6,
   "metadata": {},
   "outputs": [],
   "source": [
    "def batch_generator(X, y, shuffle=True, batch_size=2):\n",
    "    \"\"\"\n",
    "    Генератор новых батчей для обучения\n",
    "    \"\"\"\n",
    "\n",
    "    X_all = X\n",
    "    y_all = y\n",
    "    indices = np.arange(X_all.shape[0])\n",
    "    if shuffle:\n",
    "        np.random.shuffle(indices)\n",
    "    for i in range(0, X_all.shape[0], batch_size):\n",
    "        if len(indices[i: i + batch_size]) != batch_size:\n",
    "            break\n",
    "        X_batch = X_all[indices[i: i + batch_size]]\n",
    "        y_batch = y_all[indices[i: i + batch_size]]\n",
    "        yield (X_batch, y_batch)"
   ]
  },
  {
   "cell_type": "code",
   "execution_count": 7,
   "metadata": {},
   "outputs": [],
   "source": [
    "def sigmoid(x):\n",
    "    np.clip(x, -100, 100)\n",
    "    sig = 1 / (1 + np.exp(-x))\n",
    "    sig = np.minimum(sig, 1.0 - np.finfo(np.float32).eps)\n",
    "    sig = np.maximum(sig, 0.0 + np.finfo(np.float32).eps)\n",
    "    return sig"
   ]
  },
  {
   "cell_type": "code",
   "execution_count": 8,
   "metadata": {},
   "outputs": [],
   "source": [
    "class LogisticRegression:\n",
    "    def __init__(self, num_ep, lr, batch_size, l2_reg, optimizer='SGD', beta1=0.9, beta2=0.999, epsilon=1e-8):\n",
    "        self.num_ep = num_ep\n",
    "        self.lr = lr\n",
    "        self.batch_size = batch_size\n",
    "        self.l2_reg = l2_reg\n",
    "        self.optimizer = optimizer\n",
    "        self.batch_generator = batch_generator\n",
    "        self.weights = None\n",
    "        self.m = None\n",
    "        self.v = None\n",
    "        self.beta1 = beta1\n",
    "        self.beta2 = beta2\n",
    "        self.epsilon = epsilon\n",
    "        self.train_info = ([], [], [])\n",
    "        self.dev_info = ([], [], [])\n",
    "\n",
    "    def update_w_def(self, new_grad):\n",
    "        self.weights = self.weights - self.lr * new_grad\n",
    "\n",
    "    def update_w_adam(self, new_grad, it):\n",
    "        self.m = self.beta1 * self.m + (1. - self.beta1) * new_grad\n",
    "        self.mt = self.m / (1 - self.beta1 ** it)\n",
    "        self.v = self.beta2 * self.v + (1. - self.beta2) * new_grad ** 2\n",
    "        self.vt = self.v / (1 - self.beta1 ** it)\n",
    "        self.weights = self.weights - self.lr * self.mt / (np.sqrt(self.vt) + self.epsilon)\n",
    "\n",
    "    def update_weights(self, data):\n",
    "        if self.optimizer == 'SGD':\n",
    "            self.update_w_def(*data)\n",
    "        elif self.optimizer == 'Adam':\n",
    "            self.update_w_adam(*data)\n",
    "\n",
    "    def loss_grad(self, X, y):\n",
    "        y_pred = sigmoid(X.dot(self.weights))\n",
    "        loss = (-y * np.log(y_pred) - (1 - y) * np.log(1 - y_pred)).mean()\n",
    "        loss += self.l2_reg * (self.weights ** 2).mean()\n",
    "\n",
    "        y_lab = (y_pred > 0.5).astype(np.int32)\n",
    "        acc = (y_lab == y).sum() / y_lab.shape[0]\n",
    "\n",
    "        grad = X.T.dot(y_pred - y) / y.shape[0]\n",
    "        grad += 2 * self.l2_reg * np.insert(self.weights[1:], 0, 0, axis=0)\n",
    "        return loss, acc, grad\n",
    "\n",
    "    def fit(self, X, y, dev_dataset=None):\n",
    "\n",
    "        self.weights = np.zeros(X.shape[1])\n",
    "        self.m = np.zeros(X.shape[1])\n",
    "        self.v = np.zeros(X.shape[1])\n",
    "        total_steps = 1\n",
    "\n",
    "        for cur_ep in range(0, self.num_ep):\n",
    "            if cur_ep % 1 == 0:\n",
    "                loss, acc, _ = self.loss_grad(X, y)\n",
    "                self.train_info[0].append(cur_ep)\n",
    "                self.train_info[1].append(loss)\n",
    "                self.train_info[2].append(acc)\n",
    "                if dev_dataset:\n",
    "                    X_dev, y_dev = dev_dataset\n",
    "                    loss, acc, _ = self.loss_grad(X_dev, y_dev)\n",
    "                    self.dev_info[0].append(cur_ep)\n",
    "                    self.dev_info[1].append(loss)\n",
    "                    self.dev_info[2].append(acc)\n",
    "\n",
    "            new_epoch_generator = self.batch_generator(X, y, batch_size=self.batch_size, shuffle=True)\n",
    "            for ind, (X_batch, y_batch) in enumerate(new_epoch_generator):\n",
    "                loss, acc, grad = self.loss_grad(X_batch, y_batch)\n",
    "                update_data = [grad, total_steps]\n",
    "                self.update_weights(update_data)\n",
    "                total_steps += 1\n",
    "\n",
    "                if cur_ep != 0 and cur_ep % 7 == 0:\n",
    "                    self.lr *= np.exp(-0.2)\n",
    "        return self\n",
    "\n",
    "    def predict(self, X):\n",
    "        y_pred = sigmoid(X.dot(self.weights))\n",
    "        y_lab = (y_pred > 0.5).astype(np.int32)\n",
    "        return y_lab"
   ]
  },
  {
   "cell_type": "code",
   "execution_count": 9,
   "metadata": {},
   "outputs": [
    {
     "name": "stdout",
     "output_type": "stream",
     "text": [
      "w2ind started\n",
      "DICTS GENERATED IN 5.8771461999999985 seconds.\n",
      "vectorize started\n",
      "VECTORIZED IN 85.2970458 seconds.\n"
     ]
    }
   ],
   "source": [
    "train_texts_path = \"./filimdb_evaluation/FILIMDB/train.texts\"\n",
    "train_labels_path = \"./filimdb_evaluation/FILIMDB/train.labels\"\n",
    "\n",
    "with open(train_texts_path, 'r', encoding='utf-8',) as inp:\n",
    "    train_texts = list(map(str.strip, inp.readlines()))\n",
    "with open(train_labels_path, 'r', encoding='utf-8',) as inp:\n",
    "    train_labels = list(map(str.strip, inp.readlines()))\n",
    "    \n",
    "\n",
    "proc_train = list(map(preprocessing, train_texts))\n",
    "token_train = tokenize_dataset(proc_train)\n",
    "\n",
    "w2ind_train, idf = gen_w2ind(token_train, bigrams=True, trigrams=False)\n",
    "X_train = vectorize(token_train, w2ind=w2ind_train, idfs=idf, mode='default', bigrams=True, trigrams=False)\n",
    "y_train = np.array([int(lab == 'pos') for lab in train_labels])"
   ]
  },
  {
   "cell_type": "code",
   "execution_count": 10,
   "metadata": {},
   "outputs": [
    {
     "name": "stdout",
     "output_type": "stream",
     "text": [
      "vectorize started\n",
      "VECTORIZED IN 39.97794640000001 seconds.\n"
     ]
    }
   ],
   "source": [
    "val_texts_path = \"./filimdb_evaluation/FILIMDB/dev.texts\"\n",
    "val_labels_path = \"./filimdb_evaluation/FILIMDB/dev.labels\"\n",
    "\n",
    "with open(val_texts_path, 'r', encoding='utf-8') as inp:\n",
    "    val_texts = list(map(str.strip, inp.readlines()))\n",
    "with open(val_labels_path, 'r', encoding='utf-8') as inp:\n",
    "    val_labels = list(map(str.strip, inp.readlines()))\n",
    "    \n",
    "proc_val = list(map(preprocessing, val_texts))\n",
    "token_val = tokenize_dataset(proc_val)\n",
    "\n",
    "X_val = vectorize(token_val, w2ind=w2ind_train, idfs=idf, mode='default', bigrams=True, trigrams=False)\n",
    "y_val = np.array([int(lab == 'pos') for lab in val_labels])"
   ]
  },
  {
   "cell_type": "code",
   "execution_count": 11,
   "metadata": {},
   "outputs": [],
   "source": [
    "def accuracy(y_true, y_pred):\n",
    "    return (y_true == y_pred).sum() / y_true.shape[0]"
   ]
  },
  {
   "cell_type": "code",
   "execution_count": 12,
   "metadata": {},
   "outputs": [],
   "source": [
    "def show_info(info, title=\"Train\"):\n",
    "    fig = plt.figure(figsize=(15, 7))\n",
    "    ax_acc = fig.add_subplot(221)\n",
    "    ax_acc.plot(info[0], info[2], 'r--')\n",
    "    ax_acc.title.set_text(title + ' ' + \"accuracy\")\n",
    "    ax_loss = fig.add_subplot(222)\n",
    "    ax_loss.plot(info[0], info[1], 'r--')\n",
    "    ax_loss.title.set_text(title + ' ' +  \"loss\")\n",
    "    plt.show()\n"
   ]
  },
  {
   "cell_type": "code",
   "execution_count": 13,
   "metadata": {},
   "outputs": [
    {
     "name": "stdout",
     "output_type": "stream",
     "text": [
      "Train accuracy =  1.0\n"
     ]
    },
    {
     "data": {
      "image/png": "[encoded data removed]",
      "text/plain": [
       "<Figure size 1080x504 with 2 Axes>"
      ]
     },
     "metadata": {
      "needs_background": "light"
     },
     "output_type": "display_data"
    },
    {
     "name": "stdout",
     "output_type": "stream",
     "text": [
      "Dev accuracy =  0.896\n"
     ]
    },
    {
     "data": {
      "image/png": "[encoded data removed]",
      "text/plain": [
       "<Figure size 1080x504 with 2 Axes>"
      ]
     },
     "metadata": {
      "needs_background": "light"
     },
     "output_type": "display_data"
    }
   ],
   "source": [
    "train_dataset = (X_train, y_train)\n",
    "dev_dataset = (X_val, y_val)\n",
    "\n",
    "# model = LogisticRegression(num_ep=40, lr=0.001, l2_reg=1e-4, batch_size=4096, optimizer='Adam')\n",
    "model = LogisticRegression(num_ep=50, lr=0.001, l2_reg=3e-5, batch_size=1000, optimizer='Adam')\n",
    "fitted = model.fit(X_train, y_train, dev_dataset=dev_dataset)\n",
    "\n",
    "train_info, dev_info = fitted.train_info, fitted.dev_info\n",
    "\n",
    "y_train_pred = fitted.predict(X_train)\n",
    "print(\"Train accuracy = \", accuracy(y_train, y_train_pred))\n",
    "show_info(train_info)\n",
    "y_val_pred = fitted.predict(X_val)\n",
    "print(\"Dev accuracy = \", accuracy(y_val, y_val_pred))\n",
    "show_info(dev_info, title=\"Dev\")"
   ]
  },
  {
   "cell_type": "markdown",
   "metadata": {},
   "source": [
    "Я решил реализовать Adam, т.к. считается, что он наиболее хорошо работает из коробки. И действительно, это позволило модели обучаться быстрее и получить немного больше точности."
   ]
  },
  {
   "cell_type": "markdown",
   "metadata": {},
   "source": [
    "### 3"
   ]
  },
  {
   "cell_type": "markdown",
   "metadata": {},
   "source": [
    "Попробуем сначала **tf-idf** векторизацию, как наиболее известную."
   ]
  },
  {
   "cell_type": "code",
   "execution_count": 14,
   "metadata": {},
   "outputs": [
    {
     "name": "stdout",
     "output_type": "stream",
     "text": [
      "w2ind started\n",
      "DICTS GENERATED IN 8.01512409999998 seconds.\n",
      "vectorize started\n",
      "VECTORIZED IN 64.57413930000001 seconds.\n"
     ]
    }
   ],
   "source": [
    "train_texts_path = \"./filimdb_evaluation/FILIMDB/train.texts\"\n",
    "train_labels_path = \"./filimdb_evaluation/FILIMDB/train.labels\"\n",
    "\n",
    "with open(train_texts_path, 'r', encoding='utf-8',) as inp:\n",
    "    train_texts = list(map(str.strip, inp.readlines()))\n",
    "with open(train_labels_path, 'r', encoding='utf-8',) as inp:\n",
    "    train_labels = list(map(str.strip, inp.readlines()))\n",
    "    \n",
    "\n",
    "proc_train = list(map(preprocessing, train_texts))\n",
    "token_train = tokenize_dataset(proc_train)\n",
    "\n",
    "w2ind_train, idf = gen_w2ind(token_train, min_tf = 2, max_df = 0.3, bigrams=True, trigrams=True)\n",
    "X_train = vectorize(token_train, w2ind=w2ind_train, idfs=idf, mode='tf-idf', bigrams=True, trigrams=True)\n",
    "y_train = np.array([int(lab == 'pos') for lab in train_labels])"
   ]
  },
  {
   "cell_type": "code",
   "execution_count": 15,
   "metadata": {},
   "outputs": [
    {
     "name": "stdout",
     "output_type": "stream",
     "text": [
      "vectorize started\n",
      "VECTORIZED IN 37.45418319999999 seconds.\n"
     ]
    }
   ],
   "source": [
    "val_texts_path = \"./filimdb_evaluation/FILIMDB/dev.texts\"\n",
    "val_labels_path = \"./filimdb_evaluation/FILIMDB/dev.labels\"\n",
    "\n",
    "with open(val_texts_path, 'r', encoding='utf-8') as inp:\n",
    "    val_texts = list(map(str.strip, inp.readlines()))\n",
    "with open(val_labels_path, 'r', encoding='utf-8') as inp:\n",
    "    val_labels = list(map(str.strip, inp.readlines()))\n",
    "    \n",
    "proc_val = list(map(preprocessing, val_texts))\n",
    "token_val = tokenize_dataset(proc_val)\n",
    "\n",
    "X_val = vectorize(token_val, w2ind=w2ind_train, idfs=idf, mode='tf-idf', bigrams=True, trigrams=True)\n",
    "y_val = np.array([int(lab == 'pos') for lab in val_labels])"
   ]
  },
  {
   "cell_type": "code",
   "execution_count": 16,
   "metadata": {},
   "outputs": [
    {
     "name": "stdout",
     "output_type": "stream",
     "text": [
      "(15000, 263017)\n",
      "Train accuracy =  0.9874666666666667\n"
     ]
    },
    {
     "data": {
      "image/png": "[encoded data removed]",
      "text/plain": [
       "<Figure size 1080x504 with 2 Axes>"
      ]
     },
     "metadata": {
      "needs_background": "light"
     },
     "output_type": "display_data"
    },
    {
     "name": "stdout",
     "output_type": "stream",
     "text": [
      "Dev accuracy =  0.8884\n"
     ]
    },
    {
     "data": {
      "image/png": "[encoded data removed]",
      "text/plain": [
       "<Figure size 1080x504 with 2 Axes>"
      ]
     },
     "metadata": {
      "needs_background": "light"
     },
     "output_type": "display_data"
    }
   ],
   "source": [
    "train_dataset = (X_train, y_train)\n",
    "dev_dataset = (X_val, y_val)\n",
    "print(X_train.shape)\n",
    "\n",
    "# model = LogisticRegression(num_ep=40, lr=0.001, l2_reg=1e-4, batch_size=4096, optimizer='Adam')\n",
    "model = LogisticRegression(num_ep=50, lr=0.01, l2_reg=5e-6, batch_size=1000, optimizer='Adam')\n",
    "fitted = model.fit(X_train, y_train, dev_dataset=dev_dataset)\n",
    "\n",
    "train_info, dev_info = fitted.train_info, fitted.dev_info\n",
    "\n",
    "y_train_pred = fitted.predict(X_train)\n",
    "print(\"Train accuracy = \", accuracy(y_train, y_train_pred))\n",
    "show_info(train_info)\n",
    "y_val_pred = fitted.predict(X_val)\n",
    "print(\"Dev accuracy = \", accuracy(y_val, y_val_pred))\n",
    "show_info(dev_info, title=\"Dev\")"
   ]
  },
  {
   "cell_type": "markdown",
   "metadata": {},
   "source": [
    "Я также попробовал векторизации tf, просто idf, и бинарную. Все они проигрывали обычной векторизации с подсчетом слов.<br>\n",
    "Возможно не хватало нормализации, но у меня не хватило времени подобрать гиперпараметры для того, чтобы другие векторизации обгоняли обычную."
   ]
  },
  {
   "cell_type": "markdown",
   "metadata": {},
   "source": [
    "### 3"
   ]
  },
  {
   "cell_type": "markdown",
   "metadata": {},
   "source": [
    "Посмотрим, какие же примеры модель классифицирует неправильно."
   ]
  },
  {
   "cell_type": "code",
   "execution_count": 18,
   "metadata": {},
   "outputs": [
    {
     "name": "stdout",
     "output_type": "stream",
     "text": [
      "fleet released middle depression people tough time worldwide finding jobs even finding food put table europe hitler rise along nationalist socialist whackjobs united states seeds cartel sown federal reserve act income tax amendment beginning bear fruit connected finance capitalists dominating secret societies average guy girl times tough enter hollywood least hopeful images В— think properly call propaganda point even though particular movie revolves around war preparatory naval exercises real issue boys girls hook right one lead decent life wonderful children modicum grace elegance odds long complete review movie movie book reviews please visit site thecoffeecoaster com brian wright copyright\n",
      "first saw live musical denver center performing arts absolutely mind blowing stunning fantastic continuity plot dialogue liked much musicals seen stage interesting thing never got see zach's face always dark presence powerful guided direction entire production whe heard making movie waited bated breath watched movie version bummed disappointed felt cheated movie lacks captivating mood set live production never allows completely close touch every character personally would like see live version ever revived would wholeheartedly recommend go way see one memorable experiences enjoy\n",
      "romantic adventure must seemed shockingly subversive day wealthy upper class english woman schemes plots manipulates everyone around satisfaction uses privileged position embark secret activities decidedly anti social kind there's clever sex role reversal activities prove daring dashing male characters naturally there's tall dark handsome stranger keep love interest wicked lady backward coming forward meets right man wishy washy weakness gullibility every character make plot unconvincing extreme thirst romance overlook\n"
     ]
    }
   ],
   "source": [
    "with open('wrong_pred.txt', 'r') as inp:\n",
    "    wrong_texts = list(map(str.split, inp.readlines()))\n",
    "for text in wrong_texts[:3]:\n",
    "    print(' '.join(text))"
   ]
  },
  {
   "cell_type": "markdown",
   "metadata": {},
   "source": [
    "Я посмотрел глазами на тексты которые модель классифицировала неправильно. В первый раз мне удалось найти ошибку в предобработке.(не правильно удалялись теги и знаки препинания)<br> \n",
    "После этого стало заметно, что очень много неправильных текстов содержат опечатки и в итоге я добавил отсечку по **min_df = 2**, что также позволило улучшить результат.<br>\n",
    "После я прочитал второй отзыв из представленных выше, понял, что с таким бороться бесполезно и оставил идею смотреть неправильные классификации.(Текстов было очень много, они все были очень разные и никаких сходств я между ними не увидел.)"
   ]
  },
  {
   "cell_type": "code",
   "execution_count": null,
   "metadata": {},
   "outputs": [],
   "source": []
  }
 ],
 "metadata": {
  "kernelspec": {
   "display_name": "Python 3",
   "language": "python",
   "name": "python3"
  },
  "language_info": {
   "codemirror_mode": {
    "name": "ipython",
    "version": 3
   },
   "file_extension": ".py",
   "mimetype": "text/x-python",
   "name": "python",
   "nbconvert_exporter": "python",
   "pygments_lexer": "ipython3",
   "version": "3.8.3"
  }
 },
 "nbformat": 4,
 "nbformat_minor": 4
}
